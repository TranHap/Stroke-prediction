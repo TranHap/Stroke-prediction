{
 "cells": [
  {
   "cell_type": "code",
   "execution_count": null,
   "id": "51952459",
   "metadata": {},
   "outputs": [],
   "source": [
    "import pandas as pd\n",
    "import seaborn as sns\n",
    "import matplotlib.pyplot as plt\n",
    "import numpy as np"
   ]
  },
  {
   "cell_type": "code",
   "execution_count": null,
   "id": "28916635",
   "metadata": {},
   "outputs": [],
   "source": [
    "df = pd.read_csv(\"data/stroke.csv\")\n",
    "copy = df\n",
    "df.head()"
   ]
  },
  {
   "cell_type": "code",
   "execution_count": null,
   "id": "e960af77",
   "metadata": {},
   "outputs": [],
   "source": [
    "df[\"gender\"].unique()"
   ]
  },
  {
   "cell_type": "markdown",
   "id": "ae187535",
   "metadata": {},
   "source": [
    "# Xử lý dữ liệu (chưa cân bằng dataset)"
   ]
  },
  {
   "cell_type": "code",
   "execution_count": null,
   "id": "10443bfd",
   "metadata": {},
   "outputs": [],
   "source": [
    "df.fillna(df['bmi'].median(),inplace = True)"
   ]
  },
  {
   "cell_type": "code",
   "execution_count": null,
   "id": "20d9c2cd",
   "metadata": {},
   "outputs": [],
   "source": [
    "df.isnull().sum()"
   ]
  },
  {
   "cell_type": "code",
   "execution_count": null,
   "id": "e050c2ea",
   "metadata": {},
   "outputs": [],
   "source": [
    "df[\"gender\"].unique()"
   ]
  },
  {
   "cell_type": "code",
   "execution_count": null,
   "id": "5e33c90e",
   "metadata": {},
   "outputs": [],
   "source": [
    "df = df[df['gender'] != 'Other']"
   ]
  },
  {
   "cell_type": "code",
   "execution_count": null,
   "id": "8f8407ff",
   "metadata": {},
   "outputs": [],
   "source": [
    "df[\"gender\"].unique()"
   ]
  },
  {
   "cell_type": "code",
   "execution_count": null,
   "id": "08528d18",
   "metadata": {},
   "outputs": [],
   "source": [
    "df.drop('id', axis=1, inplace=True)"
   ]
  },
  {
   "cell_type": "code",
   "execution_count": null,
   "id": "98db1b7e",
   "metadata": {},
   "outputs": [],
   "source": [
    "categorical_variables = ['gender', 'ever_married','work_type', 'Residence_type','smoking_status']"
   ]
  },
  {
   "cell_type": "code",
   "execution_count": null,
   "id": "e7d36c8e",
   "metadata": {},
   "outputs": [],
   "source": [
    "from sklearn.preprocessing import LabelEncoder\n",
    "LE=LabelEncoder()"
   ]
  },
  {
   "cell_type": "code",
   "execution_count": null,
   "id": "4b346d9c",
   "metadata": {},
   "outputs": [],
   "source": [
    "for variable in categorical_variables:\n",
    "     df[variable] = LE.fit_transform(df[variable].astype(str))\n",
    "print(df.info())"
   ]
  },
  {
   "cell_type": "code",
   "execution_count": null,
   "id": "e9bc3d04",
   "metadata": {},
   "outputs": [],
   "source": [
    "X = df.loc[:, df.columns != 'stroke']\n",
    "y = df.loc[:, df.columns == 'stroke']"
   ]
  },
  {
   "cell_type": "code",
   "execution_count": null,
   "id": "eae1811c",
   "metadata": {},
   "outputs": [],
   "source": [
    "X.head()"
   ]
  },
  {
   "cell_type": "markdown",
   "id": "92f66de7",
   "metadata": {},
   "source": [
    "# Graph 1: Xem correlation "
   ]
  },
  {
   "cell_type": "code",
   "execution_count": null,
   "id": "3b441e62",
   "metadata": {},
   "outputs": [],
   "source": [
    "plt.figure(figsize=(10, 6))\n",
    "sns.heatmap(df.corr(),annot= True,cmap='Blues');\n",
    "plt.show()"
   ]
  },
  {
   "cell_type": "markdown",
   "id": "57edb524",
   "metadata": {},
   "source": [
    "Từ cái heatmap thấy là age, glucose level, hypertension, heart disease,ever married có correlate với stroke, mấy cái khác thì không đáng kể."
   ]
  },
  {
   "cell_type": "markdown",
   "id": "b45f0c04",
   "metadata": {},
   "source": [
    "# Graph 2: glucose level với stroke"
   ]
  },
  {
   "cell_type": "code",
   "execution_count": null,
   "id": "0b0ea9d2",
   "metadata": {},
   "outputs": [],
   "source": [
    "sns.scatterplot(x='age', y='avg_glucose_level',hue='stroke',data=df)"
   ]
  },
  {
   "cell_type": "markdown",
   "id": "1d6ba159",
   "metadata": {},
   "source": [
    "Ta thấy có hai clusters, ở dưới là toàn người không có stroke trong khi ở trên là ngươi có hoặc không có stroke. Từ dây, ta suy luận rằng những người không có stroke là những người có glucose_level thấp"
   ]
  },
  {
   "cell_type": "markdown",
   "id": "e234fddc",
   "metadata": {},
   "source": [
    "# Graph 3: HyperTension với Stroke"
   ]
  },
  {
   "cell_type": "code",
   "execution_count": null,
   "id": "d1fc4cb4",
   "metadata": {},
   "outputs": [],
   "source": [
    "sns.countplot(x='stroke', data = df)"
   ]
  },
  {
   "cell_type": "markdown",
   "id": "26e7e84e",
   "metadata": {},
   "source": [
    "Ta thấy là dataset của chúng ta hiện đang imbalance, do đó trước khi đi phân tích correlation giữa hypertension và stroke thì ta phải làm dataset cân bằng. Mình sẽ chọn undersample (nên làm cả hai trường hợp luôn, nhưng mà thử display oversample thì nó hơi sai sự thật, chắc là do thông tin được thêm vào synthetic nên vậy, thế là dùng undersample)"
   ]
  },
  {
   "cell_type": "code",
   "execution_count": null,
   "id": "e101ad79",
   "metadata": {},
   "outputs": [],
   "source": [
    "# Class count\n",
    "count_class_0, count_class_1 = df['stroke'].value_counts()\n",
    "# Divide by class\n",
    "df_class_0 = df[df['stroke'] == 0]\n",
    "df_class_1 = df[df['stroke'] == 1]"
   ]
  },
  {
   "cell_type": "code",
   "execution_count": null,
   "id": "76e4adc2",
   "metadata": {},
   "outputs": [],
   "source": [
    "# Because our data is imbalance, we will randomly undersample our data\n",
    "df_class_0_under = df_class_0.sample(count_class_1)\n",
    "df_test_under = pd.concat([df_class_0_under, df_class_1], axis=0)\n",
    "\n",
    "print('Random under-sampling:')\n",
    "print(df_test_under['stroke'].value_counts())\n",
    "\n",
    "sns.countplot(x='stroke',data= df_test_under)"
   ]
  },
  {
   "cell_type": "code",
   "execution_count": null,
   "id": "1c33ed14",
   "metadata": {},
   "outputs": [],
   "source": [
    "sns.set(style='whitegrid')  # Optional: Set the style\n",
    "copy = copy[copy[\"gender\"] != 'Other']\n",
    "g = sns.catplot(x='hypertension', hue='gender', col='stroke',\n",
    "                data=df_test_under, kind='count')\n",
    "g.set_axis_labels('HyperTension', 'Count')"
   ]
  },
  {
   "cell_type": "markdown",
   "id": "7c5c3498",
   "metadata": {},
   "source": [
    "Sau khi đã balance data bằng undersample rồi, ta đi phân tích. Quan sát rằng, những người có hypertertion bị stroke nhiều hơn là không bị stroke. Cùng lúc đó, nhưng người không có hypertension ít bị stroke hơn là bị stroke. Từ đây suy ra hypertension có ảnh hưởng đến dự đoán stroke (ghi mà hoa cả mắt :> ). Ta không thấy sự khác nhau quá nhiều giữa hai giới tính -> giới tính có thể không ảnh hưởng đến chuẩn đoán stroke."
   ]
  },
  {
   "cell_type": "markdown",
   "id": "18061f55",
   "metadata": {},
   "source": [
    "# Dùng regression model để dự đoán stroke"
   ]
  },
  {
   "cell_type": "markdown",
   "id": "a8c9a97f",
   "metadata": {},
   "source": [
    "Sau khi phân tích dữ liệu ở phía trên, ta thấy rằng 3 variable không ảnh hưởng đến dự đoán stroke của ta: gender (graph 2), work type, residence type (cor bé)"
   ]
  },
  {
   "cell_type": "markdown",
   "id": "f60d8899",
   "metadata": {},
   "source": [
    "# Graph 5"
   ]
  },
  {
   "cell_type": "markdown",
   "id": "a62a4a57",
   "metadata": {},
   "source": [
    "Hiện giờ chúng ta có 7 variables -> vẫn quá lớn nên dễ overfitting. Vậy mình dùng PCA nhé."
   ]
  },
  {
   "cell_type": "code",
   "execution_count": null,
   "id": "74802877",
   "metadata": {},
   "outputs": [],
   "source": [
    "# Ta đi normalize data trước khi apply PCA\n",
    "from sklearn.preprocessing import StandardScaler\n",
    "\n",
    "# Initialize StandardScaler\n",
    "scaler = StandardScaler()\n",
    "\n",
    "# Select numerical columns to scale\n",
    "numerical_cols_to_scale = ['age', 'avg_glucose_level', 'bmi']\n",
    "\n",
    "X_under = df_test_under.loc[:, df.columns != 'stroke']\n",
    "y_under = df_test_under.loc[:, df.columns == 'stroke']\n",
    "\n",
    "# Apply scaling on numerical columns\n",
    "X_under[numerical_cols_to_scale] = scaler.fit_transform(X_under[numerical_cols_to_scale])\n",
    "\n",
    "# Display the first few rows of the dataframe to verify scaling\n",
    "X_under.head()"
   ]
  },
  {
   "cell_type": "code",
   "execution_count": null,
   "id": "18c862df",
   "metadata": {},
   "outputs": [],
   "source": [
    "from sklearn.decomposition import PCA\n",
    "pca = PCA()\n",
    "pca.fit_transform(X_under)"
   ]
  },
  {
   "cell_type": "code",
   "execution_count": null,
   "id": "5655c4ab",
   "metadata": {},
   "outputs": [],
   "source": [
    "# Vẽ bảng cumulative variance\n",
    "fig = plt.figure(figsize=(10,6))\n",
    "\n",
    "axes = fig.add_axes([0.1,0.1,0.9,0.9])\n",
    "axes.tick_params(axis='x', labelsize= 15 )\n",
    "axes.tick_params(axis='y', labelsize= 15 )\n",
    "axes.set_title('CUMULATIVE EXPLAINED VARIANCE(%) vs PRINCIPAL COMPONENTS',fontsize='x-small')\n",
    "axes.set_ylabel('CUMULATIVE EXPLAINED VARIANCE(%)',fontsize='x-small')\n",
    "axes.set_xlabel('PRINCIPAL COMPONENT NUMBER',fontsize='x-small')\n",
    "axes.plot(np.cumsum(pca.explained_variance_ratio_)*100,color='navy',lw =4, ls='-', marker='o', markersize='8')\n",
    "plt.axhline(90,color='r',lw = 2)\n",
    "plt.axvline(4,color='r',lw = 2)\n",
    "plt.show();"
   ]
  },
  {
   "cell_type": "markdown",
   "id": "094fbaae",
   "metadata": {},
   "source": [
    "Như ta thấy thì 4 variables accounts cho 90% rồi. Vì vậy chúng ta quyết định sẽ dùng 4 features để dùng linear regression "
   ]
  },
  {
   "cell_type": "code",
   "execution_count": null,
   "id": "add99a3c",
   "metadata": {},
   "outputs": [],
   "source": [
    "pca = PCA(n_components = 4)\n",
    "pca.fit_transform(X_under)"
   ]
  },
  {
   "cell_type": "code",
   "execution_count": null,
   "id": "eaa714c0",
   "metadata": {},
   "outputs": [],
   "source": [
    "from sklearn.linear_model import LogisticRegression\n",
    "from sklearn.model_selection import train_test_split\n",
    "\n",
    "X_train, X_test, y_train, y_test = train_test_split(X_under, y_under, train_size = 0.8, random_state = 20, stratify = y_under)\n",
    "X_train_reduced = pca.fit_transform(X_train)\n",
    "X_test_reduced = pca.transform(X_test)\n",
    "\n",
    "lr = LogisticRegression()\n",
    "lr.fit(X_train_reduced, y_train)"
   ]
  },
  {
   "cell_type": "code",
   "execution_count": null,
   "id": "a18731ab",
   "metadata": {},
   "outputs": [],
   "source": [
    "X_train.head()"
   ]
  },
  {
   "cell_type": "code",
   "execution_count": null,
   "id": "7d59df9f",
   "metadata": {},
   "outputs": [],
   "source": [
    "y_train.head()"
   ]
  },
  {
   "cell_type": "code",
   "execution_count": null,
   "id": "2fa2c94a",
   "metadata": {},
   "outputs": [],
   "source": [
    "y_pred = lr.predict(X_test_reduced)"
   ]
  },
  {
   "cell_type": "code",
   "execution_count": null,
   "id": "7b1c93e8",
   "metadata": {},
   "outputs": [],
   "source": [
    "from sklearn.metrics import mean_squared_error as MSE\n",
    "from sklearn.metrics import accuracy_score\n",
    "\n",
    "score = MSE(y_test, y_pred)\n",
    "RMSE = (score)*(1/2)\n",
    "print(f\"RMSE: {RMSE}\")\n",
    "\n",
    "accuracy = accuracy_score(y_test, y_pred)\n",
    "print(f\"Accuracy: {accuracy}\")"
   ]
  },
  {
   "cell_type": "code",
   "execution_count": null,
   "id": "fdbd0964",
   "metadata": {},
   "outputs": [],
   "source": [
    "summary = pd.DataFrame({\n",
    "    \"RMSE\": [RMSE],\n",
    "    \"Accuracy\": [accuracy]\n",
    "})\n",
    "summary.head()"
   ]
  },
  {
   "cell_type": "code",
   "execution_count": null,
   "id": "ec8b70c3",
   "metadata": {},
   "outputs": [],
   "source": [
    "print(list(y_test[\"stroke\"]))\n",
    "print(y_pred)"
   ]
  },
  {
   "cell_type": "markdown",
   "id": "365ce6ff",
   "metadata": {},
   "source": [
    "# Tổng kết: Ta thấy rằng accuracy score dùng PCA + Logistic Regression là 73%, khong on lam"
   ]
  },
  {
   "cell_type": "code",
   "execution_count": null,
   "id": "0dfbc626",
   "metadata": {},
   "outputs": [],
   "source": [
    "X_under.head()"
   ]
  },
  {
   "cell_type": "markdown",
   "id": "74121772",
   "metadata": {},
   "source": [
    "# Graph 6"
   ]
  },
  {
   "cell_type": "code",
   "execution_count": null,
   "id": "417e5433",
   "metadata": {},
   "outputs": [],
   "source": [
    "from sklearn.datasets import make_classification\n",
    "from imblearn.over_sampling import SMOTE\n",
    "\n",
    "oversample = SMOTE()\n",
    "X_over, y_over = oversample.fit_resample(X, y)"
   ]
  },
  {
   "cell_type": "code",
   "execution_count": null,
   "id": "d4d3e728",
   "metadata": {},
   "outputs": [],
   "source": [
    "y_over.head()"
   ]
  },
  {
   "cell_type": "code",
   "execution_count": null,
   "id": "8c006e34",
   "metadata": {},
   "outputs": [],
   "source": [
    "df_test_over = pd.concat([X_over, y_over], axis=).reset_index()\n",
    "\n",
    "print('SMOTE over-sampling:')\n",
    "print(df_test_over['stroke'].value_counts())\n",
    "\n",
    "sns.countplot(x='stroke',data= df_test_over)"
   ]
  },
  {
   "cell_type": "code",
   "execution_count": null,
   "id": "99f2b522",
   "metadata": {},
   "outputs": [],
   "source": [
    "df_test_over.head()"
   ]
  },
  {
   "cell_type": "code",
   "execution_count": null,
   "id": "0b84189b",
   "metadata": {},
   "outputs": [],
   "source": [
    "# Import the linkage, dendrogram functions\n",
    "from scipy.cluster.hierarchy import linkage, dendrogram\n",
    "\n",
    "# Use the linkage() function\n",
    "distance_matrix = linkage(df_test_over[[\"gender\", \"hypertension\",\"heart_disease\",\"ever_married\",\"work_type\",\n",
    "                                         \"Residence_type\",\"smoking_status\",\"stroke\"]], \n",
    "                          method = 'complete', metric = 'euclidean', )\n",
    "dn = dendrogram(distance_matrix, p=10)\n",
    "\n",
    "plt.show()"
   ]
  },
  {
   "cell_type": "markdown",
   "id": "97ec5570",
   "metadata": {},
   "source": [
    "# Graph 7: Decision Tree"
   ]
  },
  {
   "cell_type": "code",
   "execution_count": null,
   "id": "2f0cc684",
   "metadata": {},
   "outputs": [],
   "source": [
    "from sklearn.tree import DecisionTreeClassifier"
   ]
  },
  {
   "cell_type": "code",
   "execution_count": null,
   "id": "5d642b5a",
   "metadata": {},
   "outputs": [],
   "source": [
    "# Create Decision Tree classifer object\n",
    "clf = DecisionTreeClassifier()\n",
    "\n",
    "# Train Decision Tree Classifer\n",
    "clf = clf.fit(X_train,y_train)\n"
   ]
  },
  {
   "cell_type": "code",
   "execution_count": null,
   "id": "13fa1fb8",
   "metadata": {},
   "outputs": [],
   "source": [
    "y_pred = clf.predict(X_test)"
   ]
  },
  {
   "cell_type": "code",
   "execution_count": null,
   "id": "943b01e3",
   "metadata": {},
   "outputs": [],
   "source": [
    "# Model Accuracy, how often is the classifier correct?\n",
    "print(\"Accuracy:\", accuracy_score(y_test, y_pred))"
   ]
  },
  {
   "cell_type": "code",
   "execution_count": null,
   "id": "08144f64",
   "metadata": {},
   "outputs": [],
   "source": [
    "from sklearn.tree import export_graphviz\n",
    "from six import StringIO\n",
    "from IPython.display import Image  \n",
    "import pydotplus\n",
    "\n",
    "dot_data = StringIO()\n",
    "export_graphviz(clf, out_file=dot_data,  \n",
    "                filled=True, rounded=True,\n",
    "                special_characters=True,\n",
    "                feature_names = X.columns,\n",
    "                max_depth=5,\n",
    "                impurity=False, \n",
    "                class_names=['Stroke','No Stroke'])\n",
    "graph = pydotplus.graph_from_dot_data(dot_data.getvalue())  \n",
    "graph.write_png('stroke.png')\n",
    "Image(graph.create_png())\n"
   ]
  },
  {
   "cell_type": "markdown",
   "id": "99c175c5",
   "metadata": {},
   "source": [
    "# Graph 8"
   ]
  },
  {
   "cell_type": "code",
   "execution_count": null,
   "id": "a35deb1e",
   "metadata": {},
   "outputs": [],
   "source": [
    "from sklearn.metrics import confusion_matrix,ConfusionMatrixDisplay\n",
    "cm = confusion_matrix(y_test, y_pred)\n",
    "cmap = plt.get_cmap('magma')\n",
    "\n",
    "cmd = ConfusionMatrixDisplay(confusion_matrix=cm)\n",
    "cmd.plot(cmap=cmap)"
   ]
  },
  {
   "cell_type": "code",
   "execution_count": null,
   "id": "80954249",
   "metadata": {},
   "outputs": [],
   "source": [
    "from sklearn.metrics import f1_score,accuracy_score,recall_score,roc_auc_score,classification_report\n",
    "# dt_f1 = f1_score(y_test, y_pred)\n",
    "# dt_acc = accuracy_score(y_test, y_pred)\n",
    "# dt_recall = recall_score(y_test, y_pred)\n",
    "# dt_auc = roc_auc_score(y_test, y_pred)"
   ]
  },
  {
   "cell_type": "code",
   "execution_count": null,
   "id": "13e5b7f0",
   "metadata": {},
   "outputs": [],
   "source": [
    "print(classification_report(y_test, y_pred))\n",
    "print(\"\\033[1m--------------------------------------------------------\\033[0m\")"
   ]
  },
  {
   "cell_type": "markdown",
   "id": "6a4f395d",
   "metadata": {},
   "source": [
    "# Tong ket: Decion Tree co accuracy la 61% ->qua bat on"
   ]
  },
  {
   "cell_type": "code",
   "execution_count": null,
   "id": "3179c109",
   "metadata": {},
   "outputs": [],
   "source": [
    "from sklearn.ensemble import RandomForestClassifier\n",
    "rf = RandomForestClassifier(n_jobs=-1)\n",
    "rf.fit(X_train,y_train.values.ravel())"
   ]
  },
  {
   "cell_type": "code",
   "execution_count": null,
   "id": "ed13ac26",
   "metadata": {},
   "outputs": [],
   "source": [
    "X_train.info()"
   ]
  },
  {
   "cell_type": "code",
   "execution_count": null,
   "id": "7637aa08",
   "metadata": {},
   "outputs": [],
   "source": [
    "y_pred = rf.predict(X_test)"
   ]
  },
  {
   "cell_type": "code",
   "execution_count": null,
   "id": "eb0c92db",
   "metadata": {},
   "outputs": [],
   "source": [
    "accuracy = accuracy_score(y_test, y_pred)\n",
    "print(\"Accuracy:\", accuracy)"
   ]
  },
  {
   "cell_type": "code",
   "execution_count": null,
   "id": "6044ce5a",
   "metadata": {},
   "outputs": [],
   "source": []
  }
 ],
 "metadata": {
  "kernelspec": {
   "display_name": "Python 3 (ipykernel)",
   "language": "python",
   "name": "python3"
  },
  "language_info": {
   "codemirror_mode": {
    "name": "ipython",
    "version": 3
   },
   "file_extension": ".py",
   "mimetype": "text/x-python",
   "name": "python",
   "nbconvert_exporter": "python",
   "pygments_lexer": "ipython3",
   "version": "3.11.4"
  }
 },
 "nbformat": 4,
 "nbformat_minor": 5
}
