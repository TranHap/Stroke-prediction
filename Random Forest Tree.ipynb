{
 "cells": [
  {
   "cell_type": "code",
   "execution_count": 28,
   "id": "683acfb8",
   "metadata": {},
   "outputs": [],
   "source": [
    "# Data Processing\n",
    "import pandas as pd\n",
    "import numpy as np\n",
    "\n",
    "# Modelling\n",
    "from sklearn.ensemble import RandomForestClassifier\n",
    "from sklearn.metrics import accuracy_score, confusion_matrix, precision_score, recall_score, ConfusionMatrixDisplay\n",
    "from sklearn.model_selection import RandomizedSearchCV, train_test_split\n",
    "from scipy.stats import randint\n",
    "\n",
    "# Tree Visualisation\n",
    "import seaborn as sns"
   ]
  },
  {
   "cell_type": "code",
   "execution_count": 29,
   "id": "f47a7048",
   "metadata": {},
   "outputs": [
    {
     "data": {
      "text/html": [
       "<div>\n",
       "<style scoped>\n",
       "    .dataframe tbody tr th:only-of-type {\n",
       "        vertical-align: middle;\n",
       "    }\n",
       "\n",
       "    .dataframe tbody tr th {\n",
       "        vertical-align: top;\n",
       "    }\n",
       "\n",
       "    .dataframe thead th {\n",
       "        text-align: right;\n",
       "    }\n",
       "</style>\n",
       "<table border=\"1\" class=\"dataframe\">\n",
       "  <thead>\n",
       "    <tr style=\"text-align: right;\">\n",
       "      <th></th>\n",
       "      <th>id</th>\n",
       "      <th>gender</th>\n",
       "      <th>age</th>\n",
       "      <th>hypertension</th>\n",
       "      <th>heart_disease</th>\n",
       "      <th>ever_married</th>\n",
       "      <th>work_type</th>\n",
       "      <th>Residence_type</th>\n",
       "      <th>avg_glucose_level</th>\n",
       "      <th>bmi</th>\n",
       "      <th>smoking_status</th>\n",
       "      <th>stroke</th>\n",
       "    </tr>\n",
       "  </thead>\n",
       "  <tbody>\n",
       "    <tr>\n",
       "      <th>0</th>\n",
       "      <td>9046</td>\n",
       "      <td>Male</td>\n",
       "      <td>67.0</td>\n",
       "      <td>0</td>\n",
       "      <td>1</td>\n",
       "      <td>Yes</td>\n",
       "      <td>Private</td>\n",
       "      <td>Urban</td>\n",
       "      <td>228.69</td>\n",
       "      <td>36.6</td>\n",
       "      <td>formerly smoked</td>\n",
       "      <td>1</td>\n",
       "    </tr>\n",
       "    <tr>\n",
       "      <th>1</th>\n",
       "      <td>51676</td>\n",
       "      <td>Female</td>\n",
       "      <td>61.0</td>\n",
       "      <td>0</td>\n",
       "      <td>0</td>\n",
       "      <td>Yes</td>\n",
       "      <td>Self-employed</td>\n",
       "      <td>Rural</td>\n",
       "      <td>202.21</td>\n",
       "      <td>NaN</td>\n",
       "      <td>never smoked</td>\n",
       "      <td>1</td>\n",
       "    </tr>\n",
       "    <tr>\n",
       "      <th>2</th>\n",
       "      <td>31112</td>\n",
       "      <td>Male</td>\n",
       "      <td>80.0</td>\n",
       "      <td>0</td>\n",
       "      <td>1</td>\n",
       "      <td>Yes</td>\n",
       "      <td>Private</td>\n",
       "      <td>Rural</td>\n",
       "      <td>105.92</td>\n",
       "      <td>32.5</td>\n",
       "      <td>never smoked</td>\n",
       "      <td>1</td>\n",
       "    </tr>\n",
       "    <tr>\n",
       "      <th>3</th>\n",
       "      <td>60182</td>\n",
       "      <td>Female</td>\n",
       "      <td>49.0</td>\n",
       "      <td>0</td>\n",
       "      <td>0</td>\n",
       "      <td>Yes</td>\n",
       "      <td>Private</td>\n",
       "      <td>Urban</td>\n",
       "      <td>171.23</td>\n",
       "      <td>34.4</td>\n",
       "      <td>smokes</td>\n",
       "      <td>1</td>\n",
       "    </tr>\n",
       "    <tr>\n",
       "      <th>4</th>\n",
       "      <td>1665</td>\n",
       "      <td>Female</td>\n",
       "      <td>79.0</td>\n",
       "      <td>1</td>\n",
       "      <td>0</td>\n",
       "      <td>Yes</td>\n",
       "      <td>Self-employed</td>\n",
       "      <td>Rural</td>\n",
       "      <td>174.12</td>\n",
       "      <td>24.0</td>\n",
       "      <td>never smoked</td>\n",
       "      <td>1</td>\n",
       "    </tr>\n",
       "  </tbody>\n",
       "</table>\n",
       "</div>"
      ],
      "text/plain": [
       "      id  gender   age  hypertension  heart_disease ever_married  \\\n",
       "0   9046    Male  67.0             0              1          Yes   \n",
       "1  51676  Female  61.0             0              0          Yes   \n",
       "2  31112    Male  80.0             0              1          Yes   \n",
       "3  60182  Female  49.0             0              0          Yes   \n",
       "4   1665  Female  79.0             1              0          Yes   \n",
       "\n",
       "       work_type Residence_type  avg_glucose_level   bmi   smoking_status  \\\n",
       "0        Private          Urban             228.69  36.6  formerly smoked   \n",
       "1  Self-employed          Rural             202.21   NaN     never smoked   \n",
       "2        Private          Rural             105.92  32.5     never smoked   \n",
       "3        Private          Urban             171.23  34.4           smokes   \n",
       "4  Self-employed          Rural             174.12  24.0     never smoked   \n",
       "\n",
       "   stroke  \n",
       "0       1  \n",
       "1       1  \n",
       "2       1  \n",
       "3       1  \n",
       "4       1  "
      ]
     },
     "execution_count": 29,
     "metadata": {},
     "output_type": "execute_result"
    }
   ],
   "source": [
    "df = pd.read_csv('data/stroke.csv')\n",
    "df.head()"
   ]
  },
  {
   "cell_type": "code",
   "execution_count": 30,
   "id": "b45c3e29",
   "metadata": {},
   "outputs": [
    {
     "data": {
      "text/plain": [
       "id                     0\n",
       "gender                 0\n",
       "age                    0\n",
       "hypertension           0\n",
       "heart_disease          0\n",
       "ever_married           0\n",
       "work_type              0\n",
       "Residence_type         0\n",
       "avg_glucose_level      0\n",
       "bmi                  201\n",
       "smoking_status         0\n",
       "stroke                 0\n",
       "dtype: int64"
      ]
     },
     "execution_count": 30,
     "metadata": {},
     "output_type": "execute_result"
    }
   ],
   "source": [
    "df.isnull().sum()"
   ]
  },
  {
   "cell_type": "code",
   "execution_count": 31,
   "id": "f653713b",
   "metadata": {},
   "outputs": [],
   "source": [
    "df.fillna(df['bmi'].median(),inplace = True)"
   ]
  },
  {
   "cell_type": "code",
   "execution_count": 32,
   "id": "e95c1a6b",
   "metadata": {},
   "outputs": [],
   "source": [
    "X = df.loc[:, df.columns != 'stroke']\n",
    "y = df.loc[:, df.columns == 'stroke']"
   ]
  },
  {
   "cell_type": "code",
   "execution_count": 33,
   "id": "f9c3538d",
   "metadata": {},
   "outputs": [],
   "source": [
    "# categorical values\n",
    "columns = ['gender', 'age', 'hypertension', 'heart_disease', 'ever_married',\n",
    "           'work_type', 'Residence_type', 'avg_glucose_level', 'bmi',\n",
    "           'smoking_status']\n",
    "X = pd.get_dummies(X[columns])"
   ]
  },
  {
   "cell_type": "code",
   "execution_count": 35,
   "id": "b07b10bf",
   "metadata": {},
   "outputs": [
    {
     "name": "stderr",
     "output_type": "stream",
     "text": [
      "/Users/tranvo1233/anaconda3/envs/sad/lib/python3.11/site-packages/seaborn/_oldcore.py:1498: FutureWarning: is_categorical_dtype is deprecated and will be removed in a future version. Use isinstance(dtype, CategoricalDtype) instead\n",
      "  if pd.api.types.is_categorical_dtype(vector):\n",
      "/Users/tranvo1233/anaconda3/envs/sad/lib/python3.11/site-packages/seaborn/_oldcore.py:1498: FutureWarning: is_categorical_dtype is deprecated and will be removed in a future version. Use isinstance(dtype, CategoricalDtype) instead\n",
      "  if pd.api.types.is_categorical_dtype(vector):\n",
      "/Users/tranvo1233/anaconda3/envs/sad/lib/python3.11/site-packages/seaborn/_oldcore.py:1498: FutureWarning: is_categorical_dtype is deprecated and will be removed in a future version. Use isinstance(dtype, CategoricalDtype) instead\n",
      "  if pd.api.types.is_categorical_dtype(vector):\n"
     ]
    },
    {
     "name": "stdout",
     "output_type": "stream",
     "text": [
      "stroke\n",
      "0    4861\n",
      "1     249\n",
      "Name: count, dtype: int64\n"
     ]
    },
    {
     "data": {
      "image/png": "[encoded data removed]",
      "text/plain": [
       "<Figure size 640x480 with 1 Axes>"
      ]
     },
     "metadata": {},
     "output_type": "display_data"
    }
   ],
   "source": [
    "sns.countplot(x='stroke', data = df)\n",
    "print(df['stroke'].value_counts())"
   ]
  },
  {
   "cell_type": "code",
   "execution_count": 111,
   "id": "0712146f",
   "metadata": {},
   "outputs": [],
   "source": [
    "import seaborn as sns\n",
    "from sklearn.datasets import make_classification\n",
    "from imblearn.over_sampling import SMOTE\n",
    "\n",
    "oversample = SMOTE()\n",
    "X, y = oversample.fit_resample(X, y)"
   ]
  },
  {
   "cell_type": "code",
   "execution_count": 112,
   "id": "8768a4d5",
   "metadata": {
    "collapsed": true
   },
   "outputs": [
    {
     "name": "stderr",
     "output_type": "stream",
     "text": [
      "/Users/tranvo1233/anaconda3/envs/sad/lib/python3.11/site-packages/seaborn/_oldcore.py:1498: FutureWarning: is_categorical_dtype is deprecated and will be removed in a future version. Use isinstance(dtype, CategoricalDtype) instead\n",
      "  if pd.api.types.is_categorical_dtype(vector):\n",
      "/Users/tranvo1233/anaconda3/envs/sad/lib/python3.11/site-packages/seaborn/_oldcore.py:1498: FutureWarning: is_categorical_dtype is deprecated and will be removed in a future version. Use isinstance(dtype, CategoricalDtype) instead\n",
      "  if pd.api.types.is_categorical_dtype(vector):\n",
      "/Users/tranvo1233/anaconda3/envs/sad/lib/python3.11/site-packages/seaborn/_oldcore.py:1498: FutureWarning: is_categorical_dtype is deprecated and will be removed in a future version. Use isinstance(dtype, CategoricalDtype) instead\n",
      "  if pd.api.types.is_categorical_dtype(vector):\n"
     ]
    },
    {
     "data": {
      "text/plain": [
       "<Axes: xlabel='stroke', ylabel='count'>"
      ]
     },
     "execution_count": 112,
     "metadata": {},
     "output_type": "execute_result"
    },
    {
     "data": {
      "image/png": "[encoded data removed]",
      "text/plain": [
       "<Figure size 640x480 with 1 Axes>"
      ]
     },
     "metadata": {},
     "output_type": "display_data"
    }
   ],
   "source": [
    "sns.countplot(x=\"stroke\",data=df)"
   ]
  },
  {
   "cell_type": "code",
   "execution_count": 42,
   "id": "b62c788e",
   "metadata": {
    "collapsed": true
   },
   "outputs": [
    {
     "name": "stderr",
     "output_type": "stream",
     "text": [
      "/Users/tranvo1233/anaconda3/envs/sad/lib/python3.11/site-packages/seaborn/_oldcore.py:1498: FutureWarning: is_categorical_dtype is deprecated and will be removed in a future version. Use isinstance(dtype, CategoricalDtype) instead\n",
      "  if pd.api.types.is_categorical_dtype(vector):\n",
      "/Users/tranvo1233/anaconda3/envs/sad/lib/python3.11/site-packages/seaborn/_oldcore.py:1498: FutureWarning: is_categorical_dtype is deprecated and will be removed in a future version. Use isinstance(dtype, CategoricalDtype) instead\n",
      "  if pd.api.types.is_categorical_dtype(vector):\n",
      "/Users/tranvo1233/anaconda3/envs/sad/lib/python3.11/site-packages/seaborn/_oldcore.py:1498: FutureWarning: is_categorical_dtype is deprecated and will be removed in a future version. Use isinstance(dtype, CategoricalDtype) instead\n",
      "  if pd.api.types.is_categorical_dtype(vector):\n"
     ]
    },
    {
     "data": {
      "text/plain": [
       "<Axes: xlabel='stroke', ylabel='count'>"
      ]
     },
     "execution_count": 42,
     "metadata": {},
     "output_type": "execute_result"
    },
    {
     "data": {
      "image/png": "[encoded data removed]",
      "text/plain": [
       "<Figure size 640x480 with 1 Axes>"
      ]
     },
     "metadata": {},
     "output_type": "display_data"
    }
   ],
   "source": [
    "sns.countplot(x='stroke', data=y)"
   ]
  },
  {
   "cell_type": "code",
   "execution_count": 45,
   "id": "51e452b1",
   "metadata": {},
   "outputs": [],
   "source": [
    "X_train, X_test, y_train, y_test = train_test_split(X,y, test_size=0.20, shuffle=True)"
   ]
  },
  {
   "cell_type": "code",
   "execution_count": 61,
   "id": "857261f4",
   "metadata": {},
   "outputs": [
    {
     "data": {
      "text/html": [
       "<style>#sk-container-id-5 {color: black;}#sk-container-id-5 pre{padding: 0;}#sk-container-id-5 div.sk-toggleable {background-color: white;}#sk-container-id-5 label.sk-toggleable__label {cursor: pointer;display: block;width: 100%;margin-bottom: 0;padding: 0.3em;box-sizing: border-box;text-align: center;}#sk-container-id-5 label.sk-toggleable__label-arrow:before {content: \"▸\";float: left;margin-right: 0.25em;color: #696969;}#sk-container-id-5 label.sk-toggleable__label-arrow:hover:before {color: black;}#sk-container-id-5 div.sk-estimator:hover label.sk-toggleable__label-arrow:before {color: black;}#sk-container-id-5 div.sk-toggleable__content {max-height: 0;max-width: 0;overflow: hidden;text-align: left;background-color: #f0f8ff;}#sk-container-id-5 div.sk-toggleable__content pre {margin: 0.2em;color: black;border-radius: 0.25em;background-color: #f0f8ff;}#sk-container-id-5 input.sk-toggleable__control:checked~div.sk-toggleable__content {max-height: 200px;max-width: 100%;overflow: auto;}#sk-container-id-5 input.sk-toggleable__control:checked~label.sk-toggleable__label-arrow:before {content: \"▾\";}#sk-container-id-5 div.sk-estimator input.sk-toggleable__control:checked~label.sk-toggleable__label {background-color: #d4ebff;}#sk-container-id-5 div.sk-label input.sk-toggleable__control:checked~label.sk-toggleable__label {background-color: #d4ebff;}#sk-container-id-5 input.sk-hidden--visually {border: 0;clip: rect(1px 1px 1px 1px);clip: rect(1px, 1px, 1px, 1px);height: 1px;margin: -1px;overflow: hidden;padding: 0;position: absolute;width: 1px;}#sk-container-id-5 div.sk-estimator {font-family: monospace;background-color: #f0f8ff;border: 1px dotted black;border-radius: 0.25em;box-sizing: border-box;margin-bottom: 0.5em;}#sk-container-id-5 div.sk-estimator:hover {background-color: #d4ebff;}#sk-container-id-5 div.sk-parallel-item::after {content: \"\";width: 100%;border-bottom: 1px solid gray;flex-grow: 1;}#sk-container-id-5 div.sk-label:hover label.sk-toggleable__label {background-color: #d4ebff;}#sk-container-id-5 div.sk-serial::before {content: \"\";position: absolute;border-left: 1px solid gray;box-sizing: border-box;top: 0;bottom: 0;left: 50%;z-index: 0;}#sk-container-id-5 div.sk-serial {display: flex;flex-direction: column;align-items: center;background-color: white;padding-right: 0.2em;padding-left: 0.2em;position: relative;}#sk-container-id-5 div.sk-item {position: relative;z-index: 1;}#sk-container-id-5 div.sk-parallel {display: flex;align-items: stretch;justify-content: center;background-color: white;position: relative;}#sk-container-id-5 div.sk-item::before, #sk-container-id-5 div.sk-parallel-item::before {content: \"\";position: absolute;border-left: 1px solid gray;box-sizing: border-box;top: 0;bottom: 0;left: 50%;z-index: -1;}#sk-container-id-5 div.sk-parallel-item {display: flex;flex-direction: column;z-index: 1;position: relative;background-color: white;}#sk-container-id-5 div.sk-parallel-item:first-child::after {align-self: flex-end;width: 50%;}#sk-container-id-5 div.sk-parallel-item:last-child::after {align-self: flex-start;width: 50%;}#sk-container-id-5 div.sk-parallel-item:only-child::after {width: 0;}#sk-container-id-5 div.sk-dashed-wrapped {border: 1px dashed gray;margin: 0 0.4em 0.5em 0.4em;box-sizing: border-box;padding-bottom: 0.4em;background-color: white;}#sk-container-id-5 div.sk-label label {font-family: monospace;font-weight: bold;display: inline-block;line-height: 1.2em;}#sk-container-id-5 div.sk-label-container {text-align: center;}#sk-container-id-5 div.sk-container {/* jupyter's `normalize.less` sets `[hidden] { display: none; }` but bootstrap.min.css set `[hidden] { display: none !important; }` so we also need the `!important` here to be able to override the default hidden behavior on the sphinx rendered scikit-learn.org. See: https://github.com/scikit-learn/scikit-learn/issues/21755 */display: inline-block !important;position: relative;}#sk-container-id-5 div.sk-text-repr-fallback {display: none;}</style><div id=\"sk-container-id-5\" class=\"sk-top-container\"><div class=\"sk-text-repr-fallback\"><pre>RandomForestClassifier(n_jobs=-1)</pre><b>In a Jupyter environment, please rerun this cell to show the HTML representation or trust the notebook. <br />On GitHub, the HTML representation is unable to render, please try loading this page with nbviewer.org.</b></div><div class=\"sk-container\" hidden><div class=\"sk-item\"><div class=\"sk-estimator sk-toggleable\"><input class=\"sk-toggleable__control sk-hidden--visually\" id=\"sk-estimator-id-5\" type=\"checkbox\" checked><label for=\"sk-estimator-id-5\" class=\"sk-toggleable__label sk-toggleable__label-arrow\">RandomForestClassifier</label><div class=\"sk-toggleable__content\"><pre>RandomForestClassifier(n_jobs=-1)</pre></div></div></div></div></div>"
      ],
      "text/plain": [
       "RandomForestClassifier(n_jobs=-1)"
      ]
     },
     "execution_count": 61,
     "metadata": {},
     "output_type": "execute_result"
    }
   ],
   "source": [
    "rf = RandomForestClassifier(n_jobs=-1)\n",
    "rf.fit(X_train,y_train.values.ravel())"
   ]
  },
  {
   "cell_type": "code",
   "execution_count": 62,
   "id": "a7a4e648",
   "metadata": {},
   "outputs": [],
   "source": [
    "y_pred = rf.predict(X_test)"
   ]
  },
  {
   "cell_type": "code",
   "execution_count": 63,
   "id": "1c485bee",
   "metadata": {},
   "outputs": [
    {
     "name": "stdout",
     "output_type": "stream",
     "text": [
      "Accuracy: 0.9732647814910026\n"
     ]
    }
   ],
   "source": [
    "accuracy = accuracy_score(y_test, y_pred)\n",
    "print(\"Accuracy:\", accuracy)"
   ]
  },
  {
   "cell_type": "code",
   "execution_count": 70,
   "id": "dd93c7e0",
   "metadata": {
    "collapsed": true
   },
   "outputs": [
    {
     "data": {
      "image/svg+xml": [
       "<?xml version=\"1.0\" encoding=\"UTF-8\" standalone=\"no\"?>\n",
       "<!DOCTYPE svg PUBLIC \"-//W3C//DTD SVG 1.1//EN\"\n",
       " \"http://www.w3.org/Graphics/SVG/1.1/DTD/svg11.dtd\">\n",
       "<!-- Generated by graphviz version 9.0.0 (20230911.1827)\n",
       " -->\n",
       "<!-- Title: Tree Pages: 1 -->\n",
       "<svg width=\"807pt\" height=\"311pt\"\n",
       " viewBox=\"0.00 0.00 807.00 311.00\" xmlns=\"http://www.w3.org/2000/svg\" xmlns:xlink=\"http://www.w3.org/1999/xlink\">\n",
       "<g id=\"graph0\" class=\"graph\" transform=\"scale(1 1) rotate(0) translate(4 307)\">\n",
       "<title>Tree</title>\n",
       "<polygon fill=\"white\" stroke=\"none\" points=\"-4,4 -4,-307 803,-307 803,4 -4,4\"/>\n",
       "<!-- 0 -->\n",
       "<g id=\"node1\" class=\"node\">\n",
       "<title>0</title>\n",
       "<polygon fill=\"#fffefd\" stroke=\"black\" points=\"515.88,-303 361.88,-303 361.88,-250 515.88,-250 515.88,-303\"/>\n",
       "<text text-anchor=\"middle\" x=\"438.88\" y=\"-285.7\" font-family=\"Helvetica,sans-Serif\" font-size=\"14.00\">gender_Female &lt;= 0.5</text>\n",
       "<text text-anchor=\"middle\" x=\"438.88\" y=\"-270.7\" font-family=\"Helvetica,sans-Serif\" font-size=\"14.00\">samples = 100.0%</text>\n",
       "<text text-anchor=\"middle\" x=\"438.88\" y=\"-255.7\" font-family=\"Helvetica,sans-Serif\" font-size=\"14.00\">value = [0.502, 0.498]</text>\n",
       "</g>\n",
       "<!-- 1 -->\n",
       "<g id=\"node2\" class=\"node\">\n",
       "<title>1</title>\n",
       "<polygon fill=\"#f4c9aa\" stroke=\"black\" points=\"452.88,-214 190.88,-214 190.88,-161 452.88,-161 452.88,-214\"/>\n",
       "<text text-anchor=\"middle\" x=\"321.88\" y=\"-196.7\" font-family=\"Helvetica,sans-Serif\" font-size=\"14.00\">smoking_status_formerly smoked &lt;= 0.5</text>\n",
       "<text text-anchor=\"middle\" x=\"321.88\" y=\"-181.7\" font-family=\"Helvetica,sans-Serif\" font-size=\"14.00\">samples = 31.3%</text>\n",
       "<text text-anchor=\"middle\" x=\"321.88\" y=\"-166.7\" font-family=\"Helvetica,sans-Serif\" font-size=\"14.00\">value = [0.638, 0.362]</text>\n",
       "</g>\n",
       "<!-- 0&#45;&gt;1 -->\n",
       "<g id=\"edge1\" class=\"edge\">\n",
       "<title>0&#45;&gt;1</title>\n",
       "<path fill=\"none\" stroke=\"black\" d=\"M404.09,-249.63C392.05,-240.68 378.41,-230.54 365.74,-221.12\"/>\n",
       "<polygon fill=\"black\" stroke=\"black\" points=\"368.06,-218.48 357.94,-215.32 363.88,-224.1 368.06,-218.48\"/>\n",
       "<text text-anchor=\"middle\" x=\"360.37\" y=\"-233.35\" font-family=\"Helvetica,sans-Serif\" font-size=\"14.00\">True</text>\n",
       "</g>\n",
       "<!-- 410 -->\n",
       "<g id=\"node9\" class=\"node\">\n",
       "<title>410</title>\n",
       "<polygon fill=\"#d5eafa\" stroke=\"black\" points=\"640.75,-214 471,-214 471,-161 640.75,-161 640.75,-214\"/>\n",
       "<text text-anchor=\"middle\" x=\"555.88\" y=\"-196.7\" font-family=\"Helvetica,sans-Serif\" font-size=\"14.00\">work_type_Private &lt;= 0.5</text>\n",
       "<text text-anchor=\"middle\" x=\"555.88\" y=\"-181.7\" font-family=\"Helvetica,sans-Serif\" font-size=\"14.00\">samples = 68.7%</text>\n",
       "<text text-anchor=\"middle\" x=\"555.88\" y=\"-166.7\" font-family=\"Helvetica,sans-Serif\" font-size=\"14.00\">value = [0.441, 0.559]</text>\n",
       "</g>\n",
       "<!-- 0&#45;&gt;410 -->\n",
       "<g id=\"edge8\" class=\"edge\">\n",
       "<title>0&#45;&gt;410</title>\n",
       "<path fill=\"none\" stroke=\"black\" d=\"M473.66,-249.63C485.7,-240.68 499.34,-230.54 512.01,-221.12\"/>\n",
       "<polygon fill=\"black\" stroke=\"black\" points=\"513.87,-224.1 519.81,-215.32 509.69,-218.48 513.87,-224.1\"/>\n",
       "<text text-anchor=\"middle\" x=\"517.38\" y=\"-233.35\" font-family=\"Helvetica,sans-Serif\" font-size=\"14.00\">False</text>\n",
       "</g>\n",
       "<!-- 2 -->\n",
       "<g id=\"node3\" class=\"node\">\n",
       "<title>2</title>\n",
       "<polygon fill=\"#eeab7b\" stroke=\"black\" points=\"199.75,-125 0,-125 0,-72 199.75,-72 199.75,-125\"/>\n",
       "<text text-anchor=\"middle\" x=\"99.88\" y=\"-107.7\" font-family=\"Helvetica,sans-Serif\" font-size=\"14.00\">Residence_type_Urban &lt;= 0.5</text>\n",
       "<text text-anchor=\"middle\" x=\"99.88\" y=\"-92.7\" font-family=\"Helvetica,sans-Serif\" font-size=\"14.00\">samples = 22.0%</text>\n",
       "<text text-anchor=\"middle\" x=\"99.88\" y=\"-77.7\" font-family=\"Helvetica,sans-Serif\" font-size=\"14.00\">value = [0.751, 0.249]</text>\n",
       "</g>\n",
       "<!-- 1&#45;&gt;2 -->\n",
       "<g id=\"edge2\" class=\"edge\">\n",
       "<title>1&#45;&gt;2</title>\n",
       "<path fill=\"none\" stroke=\"black\" d=\"M255.57,-160.51C230.64,-150.75 202.1,-139.56 176.32,-129.46\"/>\n",
       "<polygon fill=\"black\" stroke=\"black\" points=\"177.84,-126.29 167.25,-125.9 175.28,-132.81 177.84,-126.29\"/>\n",
       "</g>\n",
       "<!-- 287 -->\n",
       "<g id=\"node6\" class=\"node\">\n",
       "<title>287</title>\n",
       "<polygon fill=\"#afd8f5\" stroke=\"black\" points=\"434.38,-125 217.38,-125 217.38,-72 434.38,-72 434.38,-125\"/>\n",
       "<text text-anchor=\"middle\" x=\"325.88\" y=\"-107.7\" font-family=\"Helvetica,sans-Serif\" font-size=\"14.00\">smoking_status_Unknown &lt;= 0.5</text>\n",
       "<text text-anchor=\"middle\" x=\"325.88\" y=\"-92.7\" font-family=\"Helvetica,sans-Serif\" font-size=\"14.00\">samples = 9.3%</text>\n",
       "<text text-anchor=\"middle\" x=\"325.88\" y=\"-77.7\" font-family=\"Helvetica,sans-Serif\" font-size=\"14.00\">value = [0.374, 0.626]</text>\n",
       "</g>\n",
       "<!-- 1&#45;&gt;287 -->\n",
       "<g id=\"edge5\" class=\"edge\">\n",
       "<title>1&#45;&gt;287</title>\n",
       "<path fill=\"none\" stroke=\"black\" d=\"M323.05,-160.87C323.4,-153.24 323.8,-144.72 324.17,-136.51\"/>\n",
       "<polygon fill=\"black\" stroke=\"black\" points=\"327.66,-136.91 324.62,-126.76 320.67,-136.59 327.66,-136.91\"/>\n",
       "</g>\n",
       "<!-- 3 -->\n",
       "<g id=\"node4\" class=\"node\">\n",
       "<title>3</title>\n",
       "<polygon fill=\"#c0c0c0\" stroke=\"black\" points=\"90.88,-36 36.88,-36 36.88,0 90.88,0 90.88,-36\"/>\n",
       "<text text-anchor=\"middle\" x=\"63.88\" y=\"-12.2\" font-family=\"Helvetica,sans-Serif\" font-size=\"14.00\">(...)</text>\n",
       "</g>\n",
       "<!-- 2&#45;&gt;3 -->\n",
       "<g id=\"edge3\" class=\"edge\">\n",
       "<title>2&#45;&gt;3</title>\n",
       "<path fill=\"none\" stroke=\"black\" d=\"M88.09,-71.8C84.38,-63.71 80.27,-54.76 76.51,-46.55\"/>\n",
       "<polygon fill=\"black\" stroke=\"black\" points=\"79.8,-45.34 72.45,-37.71 73.44,-48.25 79.8,-45.34\"/>\n",
       "</g>\n",
       "<!-- 116 -->\n",
       "<g id=\"node5\" class=\"node\">\n",
       "<title>116</title>\n",
       "<polygon fill=\"#c0c0c0\" stroke=\"black\" points=\"162.88,-36 108.88,-36 108.88,0 162.88,0 162.88,-36\"/>\n",
       "<text text-anchor=\"middle\" x=\"135.88\" y=\"-12.2\" font-family=\"Helvetica,sans-Serif\" font-size=\"14.00\">(...)</text>\n",
       "</g>\n",
       "<!-- 2&#45;&gt;116 -->\n",
       "<g id=\"edge4\" class=\"edge\">\n",
       "<title>2&#45;&gt;116</title>\n",
       "<path fill=\"none\" stroke=\"black\" d=\"M111.66,-71.8C115.37,-63.71 119.48,-54.76 123.24,-46.55\"/>\n",
       "<polygon fill=\"black\" stroke=\"black\" points=\"126.31,-48.25 127.3,-37.71 119.95,-45.34 126.31,-48.25\"/>\n",
       "</g>\n",
       "<!-- 288 -->\n",
       "<g id=\"node7\" class=\"node\">\n",
       "<title>288</title>\n",
       "<polygon fill=\"#c0c0c0\" stroke=\"black\" points=\"316.88,-36 262.88,-36 262.88,0 316.88,0 316.88,-36\"/>\n",
       "<text text-anchor=\"middle\" x=\"289.88\" y=\"-12.2\" font-family=\"Helvetica,sans-Serif\" font-size=\"14.00\">(...)</text>\n",
       "</g>\n",
       "<!-- 287&#45;&gt;288 -->\n",
       "<g id=\"edge6\" class=\"edge\">\n",
       "<title>287&#45;&gt;288</title>\n",
       "<path fill=\"none\" stroke=\"black\" d=\"M314.09,-71.8C310.38,-63.71 306.27,-54.76 302.51,-46.55\"/>\n",
       "<polygon fill=\"black\" stroke=\"black\" points=\"305.8,-45.34 298.45,-37.71 299.44,-48.25 305.8,-45.34\"/>\n",
       "</g>\n",
       "<!-- 409 -->\n",
       "<g id=\"node8\" class=\"node\">\n",
       "<title>409</title>\n",
       "<polygon fill=\"#c0c0c0\" stroke=\"black\" points=\"388.88,-36 334.88,-36 334.88,0 388.88,0 388.88,-36\"/>\n",
       "<text text-anchor=\"middle\" x=\"361.88\" y=\"-12.2\" font-family=\"Helvetica,sans-Serif\" font-size=\"14.00\">(...)</text>\n",
       "</g>\n",
       "<!-- 287&#45;&gt;409 -->\n",
       "<g id=\"edge7\" class=\"edge\">\n",
       "<title>287&#45;&gt;409</title>\n",
       "<path fill=\"none\" stroke=\"black\" d=\"M337.66,-71.8C341.37,-63.71 345.48,-54.76 349.24,-46.55\"/>\n",
       "<polygon fill=\"black\" stroke=\"black\" points=\"352.31,-48.25 353.3,-37.71 345.95,-45.34 352.31,-48.25\"/>\n",
       "</g>\n",
       "<!-- 411 -->\n",
       "<g id=\"node10\" class=\"node\">\n",
       "<title>411</title>\n",
       "<polygon fill=\"#f5d1b6\" stroke=\"black\" points=\"643.12,-125 460.62,-125 460.62,-72 643.12,-72 643.12,-125\"/>\n",
       "<text text-anchor=\"middle\" x=\"551.88\" y=\"-107.7\" font-family=\"Helvetica,sans-Serif\" font-size=\"14.00\">work_type_Govt_job &lt;= 0.5</text>\n",
       "<text text-anchor=\"middle\" x=\"551.88\" y=\"-92.7\" font-family=\"Helvetica,sans-Serif\" font-size=\"14.00\">samples = 20.1%</text>\n",
       "<text text-anchor=\"middle\" x=\"551.88\" y=\"-77.7\" font-family=\"Helvetica,sans-Serif\" font-size=\"14.00\">value = [0.613, 0.387]</text>\n",
       "</g>\n",
       "<!-- 410&#45;&gt;411 -->\n",
       "<g id=\"edge9\" class=\"edge\">\n",
       "<title>410&#45;&gt;411</title>\n",
       "<path fill=\"none\" stroke=\"black\" d=\"M554.7,-160.87C554.35,-153.24 553.95,-144.72 553.58,-136.51\"/>\n",
       "<polygon fill=\"black\" stroke=\"black\" points=\"557.08,-136.59 553.13,-126.76 550.09,-136.91 557.08,-136.59\"/>\n",
       "</g>\n",
       "<!-- 702 -->\n",
       "<g id=\"node13\" class=\"node\">\n",
       "<title>702</title>\n",
       "<polygon fill=\"#add7f4\" stroke=\"black\" points=\"799,-125 660.75,-125 660.75,-72 799,-72 799,-125\"/>\n",
       "<text text-anchor=\"middle\" x=\"729.88\" y=\"-107.7\" font-family=\"Helvetica,sans-Serif\" font-size=\"14.00\">gender_Male &lt;= 0.5</text>\n",
       "<text text-anchor=\"middle\" x=\"729.88\" y=\"-92.7\" font-family=\"Helvetica,sans-Serif\" font-size=\"14.00\">samples = 48.6%</text>\n",
       "<text text-anchor=\"middle\" x=\"729.88\" y=\"-77.7\" font-family=\"Helvetica,sans-Serif\" font-size=\"14.00\">value = [0.37, 0.63]</text>\n",
       "</g>\n",
       "<!-- 410&#45;&gt;702 -->\n",
       "<g id=\"edge12\" class=\"edge\">\n",
       "<title>410&#45;&gt;702</title>\n",
       "<path fill=\"none\" stroke=\"black\" d=\"M607.61,-160.63C626.55,-151.16 648.17,-140.35 667.91,-130.48\"/>\n",
       "<polygon fill=\"black\" stroke=\"black\" points=\"669.31,-133.7 676.69,-126.09 666.18,-127.44 669.31,-133.7\"/>\n",
       "</g>\n",
       "<!-- 412 -->\n",
       "<g id=\"node11\" class=\"node\">\n",
       "<title>412</title>\n",
       "<polygon fill=\"#c0c0c0\" stroke=\"black\" points=\"541.88,-36 487.88,-36 487.88,0 541.88,0 541.88,-36\"/>\n",
       "<text text-anchor=\"middle\" x=\"514.88\" y=\"-12.2\" font-family=\"Helvetica,sans-Serif\" font-size=\"14.00\">(...)</text>\n",
       "</g>\n",
       "<!-- 411&#45;&gt;412 -->\n",
       "<g id=\"edge10\" class=\"edge\">\n",
       "<title>411&#45;&gt;412</title>\n",
       "<path fill=\"none\" stroke=\"black\" d=\"M539.76,-71.8C535.95,-63.71 531.73,-54.76 527.86,-46.55\"/>\n",
       "<polygon fill=\"black\" stroke=\"black\" points=\"531.12,-45.25 523.69,-37.7 524.79,-48.24 531.12,-45.25\"/>\n",
       "</g>\n",
       "<!-- 593 -->\n",
       "<g id=\"node12\" class=\"node\">\n",
       "<title>593</title>\n",
       "<polygon fill=\"#c0c0c0\" stroke=\"black\" points=\"613.88,-36 559.88,-36 559.88,0 613.88,0 613.88,-36\"/>\n",
       "<text text-anchor=\"middle\" x=\"586.88\" y=\"-12.2\" font-family=\"Helvetica,sans-Serif\" font-size=\"14.00\">(...)</text>\n",
       "</g>\n",
       "<!-- 411&#45;&gt;593 -->\n",
       "<g id=\"edge11\" class=\"edge\">\n",
       "<title>411&#45;&gt;593</title>\n",
       "<path fill=\"none\" stroke=\"black\" d=\"M563.34,-71.8C566.9,-63.8 570.84,-54.96 574.47,-46.83\"/>\n",
       "<polygon fill=\"black\" stroke=\"black\" points=\"577.66,-48.27 578.53,-37.71 571.26,-45.42 577.66,-48.27\"/>\n",
       "</g>\n",
       "<!-- 703 -->\n",
       "<g id=\"node14\" class=\"node\">\n",
       "<title>703</title>\n",
       "<polygon fill=\"#c0c0c0\" stroke=\"black\" points=\"720.88,-36 666.88,-36 666.88,0 720.88,0 720.88,-36\"/>\n",
       "<text text-anchor=\"middle\" x=\"693.88\" y=\"-12.2\" font-family=\"Helvetica,sans-Serif\" font-size=\"14.00\">(...)</text>\n",
       "</g>\n",
       "<!-- 702&#45;&gt;703 -->\n",
       "<g id=\"edge13\" class=\"edge\">\n",
       "<title>702&#45;&gt;703</title>\n",
       "<path fill=\"none\" stroke=\"black\" d=\"M718.09,-71.8C714.38,-63.71 710.27,-54.76 706.51,-46.55\"/>\n",
       "<polygon fill=\"black\" stroke=\"black\" points=\"709.8,-45.34 702.45,-37.71 703.44,-48.25 709.8,-45.34\"/>\n",
       "</g>\n",
       "<!-- 1004 -->\n",
       "<g id=\"node15\" class=\"node\">\n",
       "<title>1004</title>\n",
       "<polygon fill=\"#c0c0c0\" stroke=\"black\" points=\"792.88,-36 738.88,-36 738.88,0 792.88,0 792.88,-36\"/>\n",
       "<text text-anchor=\"middle\" x=\"765.88\" y=\"-12.2\" font-family=\"Helvetica,sans-Serif\" font-size=\"14.00\">(...)</text>\n",
       "</g>\n",
       "<!-- 702&#45;&gt;1004 -->\n",
       "<g id=\"edge14\" class=\"edge\">\n",
       "<title>702&#45;&gt;1004</title>\n",
       "<path fill=\"none\" stroke=\"black\" d=\"M741.66,-71.8C745.37,-63.71 749.48,-54.76 753.24,-46.55\"/>\n",
       "<polygon fill=\"black\" stroke=\"black\" points=\"756.31,-48.25 757.3,-37.71 749.95,-45.34 756.31,-48.25\"/>\n",
       "</g>\n",
       "</g>\n",
       "</svg>\n"
      ],
      "text/plain": [
       "<graphviz.sources.Source at 0x12ed1e610>"
      ]
     },
     "metadata": {},
     "output_type": "display_data"
    },
    {
     "data": {
      "image/svg+xml": [
       "<?xml version=\"1.0\" encoding=\"UTF-8\" standalone=\"no\"?>\n",
       "<!DOCTYPE svg PUBLIC \"-//W3C//DTD SVG 1.1//EN\"\n",
       " \"http://www.w3.org/Graphics/SVG/1.1/DTD/svg11.dtd\">\n",
       "<!-- Generated by graphviz version 9.0.0 (20230911.1827)\n",
       " -->\n",
       "<!-- Title: Tree Pages: 1 -->\n",
       "<svg width=\"884pt\" height=\"311pt\"\n",
       " viewBox=\"0.00 0.00 884.00 311.00\" xmlns=\"http://www.w3.org/2000/svg\" xmlns:xlink=\"http://www.w3.org/1999/xlink\">\n",
       "<g id=\"graph0\" class=\"graph\" transform=\"scale(1 1) rotate(0) translate(4 307)\">\n",
       "<title>Tree</title>\n",
       "<polygon fill=\"white\" stroke=\"none\" points=\"-4,4 -4,-307 880,-307 880,4 -4,4\"/>\n",
       "<!-- 0 -->\n",
       "<g id=\"node1\" class=\"node\">\n",
       "<title>0</title>\n",
       "<polygon fill=\"#f7fbfe\" stroke=\"black\" points=\"584,-303 384.25,-303 384.25,-250 584,-250 584,-303\"/>\n",
       "<text text-anchor=\"middle\" x=\"484.12\" y=\"-285.7\" font-family=\"Helvetica,sans-Serif\" font-size=\"14.00\">Residence_type_Urban &lt;= 0.5</text>\n",
       "<text text-anchor=\"middle\" x=\"484.12\" y=\"-270.7\" font-family=\"Helvetica,sans-Serif\" font-size=\"14.00\">samples = 100.0%</text>\n",
       "<text text-anchor=\"middle\" x=\"484.12\" y=\"-255.7\" font-family=\"Helvetica,sans-Serif\" font-size=\"14.00\">value = [0.489, 0.511]</text>\n",
       "</g>\n",
       "<!-- 1 -->\n",
       "<g id=\"node2\" class=\"node\">\n",
       "<title>1</title>\n",
       "<polygon fill=\"#f2c09c\" stroke=\"black\" points=\"452,-214 282.25,-214 282.25,-161 452,-161 452,-214\"/>\n",
       "<text text-anchor=\"middle\" x=\"367.12\" y=\"-196.7\" font-family=\"Helvetica,sans-Serif\" font-size=\"14.00\">ever_married_Yes &lt;= 0.5</text>\n",
       "<text text-anchor=\"middle\" x=\"367.12\" y=\"-181.7\" font-family=\"Helvetica,sans-Serif\" font-size=\"14.00\">samples = 36.0%</text>\n",
       "<text text-anchor=\"middle\" x=\"367.12\" y=\"-166.7\" font-family=\"Helvetica,sans-Serif\" font-size=\"14.00\">value = [0.667, 0.333]</text>\n",
       "</g>\n",
       "<!-- 0&#45;&gt;1 -->\n",
       "<g id=\"edge1\" class=\"edge\">\n",
       "<title>0&#45;&gt;1</title>\n",
       "<path fill=\"none\" stroke=\"black\" d=\"M449.34,-249.63C437.3,-240.68 423.66,-230.54 410.99,-221.12\"/>\n",
       "<polygon fill=\"black\" stroke=\"black\" points=\"413.31,-218.48 403.19,-215.32 409.13,-224.1 413.31,-218.48\"/>\n",
       "<text text-anchor=\"middle\" x=\"405.62\" y=\"-233.35\" font-family=\"Helvetica,sans-Serif\" font-size=\"14.00\">True</text>\n",
       "</g>\n",
       "<!-- 462 -->\n",
       "<g id=\"node9\" class=\"node\">\n",
       "<title>462</title>\n",
       "<polygon fill=\"#b8dcf6\" stroke=\"black\" points=\"732.12,-214 470.12,-214 470.12,-161 732.12,-161 732.12,-214\"/>\n",
       "<text text-anchor=\"middle\" x=\"601.12\" y=\"-196.7\" font-family=\"Helvetica,sans-Serif\" font-size=\"14.00\">smoking_status_formerly smoked &lt;= 0.5</text>\n",
       "<text text-anchor=\"middle\" x=\"601.12\" y=\"-181.7\" font-family=\"Helvetica,sans-Serif\" font-size=\"14.00\">samples = 64.0%</text>\n",
       "<text text-anchor=\"middle\" x=\"601.12\" y=\"-166.7\" font-family=\"Helvetica,sans-Serif\" font-size=\"14.00\">value = [0.392, 0.608]</text>\n",
       "</g>\n",
       "<!-- 0&#45;&gt;462 -->\n",
       "<g id=\"edge8\" class=\"edge\">\n",
       "<title>0&#45;&gt;462</title>\n",
       "<path fill=\"none\" stroke=\"black\" d=\"M518.91,-249.63C530.95,-240.68 544.59,-230.54 557.26,-221.12\"/>\n",
       "<polygon fill=\"black\" stroke=\"black\" points=\"559.12,-224.1 565.06,-215.32 554.94,-218.48 559.12,-224.1\"/>\n",
       "<text text-anchor=\"middle\" x=\"562.63\" y=\"-233.35\" font-family=\"Helvetica,sans-Serif\" font-size=\"14.00\">False</text>\n",
       "</g>\n",
       "<!-- 2 -->\n",
       "<g id=\"node3\" class=\"node\">\n",
       "<title>2</title>\n",
       "<polygon fill=\"#e5833c\" stroke=\"black\" points=\"246.25,-125 0,-125 0,-72 246.25,-72 246.25,-125\"/>\n",
       "<text text-anchor=\"middle\" x=\"123.12\" y=\"-107.7\" font-family=\"Helvetica,sans-Serif\" font-size=\"14.00\">smoking_status_never smoked &lt;= 0.5</text>\n",
       "<text text-anchor=\"middle\" x=\"123.12\" y=\"-92.7\" font-family=\"Helvetica,sans-Serif\" font-size=\"14.00\">samples = 8.7%</text>\n",
       "<text text-anchor=\"middle\" x=\"123.12\" y=\"-77.7\" font-family=\"Helvetica,sans-Serif\" font-size=\"14.00\">value = [0.984, 0.016]</text>\n",
       "</g>\n",
       "<!-- 1&#45;&gt;2 -->\n",
       "<g id=\"edge2\" class=\"edge\">\n",
       "<title>1&#45;&gt;2</title>\n",
       "<path fill=\"none\" stroke=\"black\" d=\"M294.25,-160.51C266.6,-150.66 234.92,-139.36 206.39,-129.19\"/>\n",
       "<polygon fill=\"black\" stroke=\"black\" points=\"207.65,-125.92 197.05,-125.86 205.3,-132.51 207.65,-125.92\"/>\n",
       "</g>\n",
       "<!-- 25 -->\n",
       "<g id=\"node6\" class=\"node\">\n",
       "<title>25</title>\n",
       "<polygon fill=\"#f9e2d1\" stroke=\"black\" points=\"479.5,-125 264.75,-125 264.75,-72 479.5,-72 479.5,-125\"/>\n",
       "<text text-anchor=\"middle\" x=\"372.12\" y=\"-107.7\" font-family=\"Helvetica,sans-Serif\" font-size=\"14.00\">work_type_Self&#45;employed &lt;= 0.5</text>\n",
       "<text text-anchor=\"middle\" x=\"372.12\" y=\"-92.7\" font-family=\"Helvetica,sans-Serif\" font-size=\"14.00\">samples = 27.3%</text>\n",
       "<text text-anchor=\"middle\" x=\"372.12\" y=\"-77.7\" font-family=\"Helvetica,sans-Serif\" font-size=\"14.00\">value = [0.565, 0.435]</text>\n",
       "</g>\n",
       "<!-- 1&#45;&gt;25 -->\n",
       "<g id=\"edge5\" class=\"edge\">\n",
       "<title>1&#45;&gt;25</title>\n",
       "<path fill=\"none\" stroke=\"black\" d=\"M368.6,-160.87C369.04,-153.24 369.53,-144.72 370,-136.51\"/>\n",
       "<polygon fill=\"black\" stroke=\"black\" points=\"373.48,-136.95 370.56,-126.76 366.49,-136.54 373.48,-136.95\"/>\n",
       "</g>\n",
       "<!-- 3 -->\n",
       "<g id=\"node4\" class=\"node\">\n",
       "<title>3</title>\n",
       "<polygon fill=\"#c0c0c0\" stroke=\"black\" points=\"114.12,-36 60.12,-36 60.12,0 114.12,0 114.12,-36\"/>\n",
       "<text text-anchor=\"middle\" x=\"87.12\" y=\"-12.2\" font-family=\"Helvetica,sans-Serif\" font-size=\"14.00\">(...)</text>\n",
       "</g>\n",
       "<!-- 2&#45;&gt;3 -->\n",
       "<g id=\"edge3\" class=\"edge\">\n",
       "<title>2&#45;&gt;3</title>\n",
       "<path fill=\"none\" stroke=\"black\" d=\"M111.34,-71.8C107.63,-63.71 103.52,-54.76 99.76,-46.55\"/>\n",
       "<polygon fill=\"black\" stroke=\"black\" points=\"103.05,-45.34 95.7,-37.71 96.69,-48.25 103.05,-45.34\"/>\n",
       "</g>\n",
       "<!-- 12 -->\n",
       "<g id=\"node5\" class=\"node\">\n",
       "<title>12</title>\n",
       "<polygon fill=\"#c0c0c0\" stroke=\"black\" points=\"186.12,-36 132.12,-36 132.12,0 186.12,0 186.12,-36\"/>\n",
       "<text text-anchor=\"middle\" x=\"159.12\" y=\"-12.2\" font-family=\"Helvetica,sans-Serif\" font-size=\"14.00\">(...)</text>\n",
       "</g>\n",
       "<!-- 2&#45;&gt;12 -->\n",
       "<g id=\"edge4\" class=\"edge\">\n",
       "<title>2&#45;&gt;12</title>\n",
       "<path fill=\"none\" stroke=\"black\" d=\"M134.91,-71.8C138.62,-63.71 142.73,-54.76 146.49,-46.55\"/>\n",
       "<polygon fill=\"black\" stroke=\"black\" points=\"149.56,-48.25 150.55,-37.71 143.2,-45.34 149.56,-48.25\"/>\n",
       "</g>\n",
       "<!-- 26 -->\n",
       "<g id=\"node7\" class=\"node\">\n",
       "<title>26</title>\n",
       "<polygon fill=\"#c0c0c0\" stroke=\"black\" points=\"363.12,-36 309.12,-36 309.12,0 363.12,0 363.12,-36\"/>\n",
       "<text text-anchor=\"middle\" x=\"336.12\" y=\"-12.2\" font-family=\"Helvetica,sans-Serif\" font-size=\"14.00\">(...)</text>\n",
       "</g>\n",
       "<!-- 25&#45;&gt;26 -->\n",
       "<g id=\"edge6\" class=\"edge\">\n",
       "<title>25&#45;&gt;26</title>\n",
       "<path fill=\"none\" stroke=\"black\" d=\"M360.34,-71.8C356.63,-63.71 352.52,-54.76 348.76,-46.55\"/>\n",
       "<polygon fill=\"black\" stroke=\"black\" points=\"352.05,-45.34 344.7,-37.71 345.69,-48.25 352.05,-45.34\"/>\n",
       "</g>\n",
       "<!-- 329 -->\n",
       "<g id=\"node8\" class=\"node\">\n",
       "<title>329</title>\n",
       "<polygon fill=\"#c0c0c0\" stroke=\"black\" points=\"435.12,-36 381.12,-36 381.12,0 435.12,0 435.12,-36\"/>\n",
       "<text text-anchor=\"middle\" x=\"408.12\" y=\"-12.2\" font-family=\"Helvetica,sans-Serif\" font-size=\"14.00\">(...)</text>\n",
       "</g>\n",
       "<!-- 25&#45;&gt;329 -->\n",
       "<g id=\"edge7\" class=\"edge\">\n",
       "<title>25&#45;&gt;329</title>\n",
       "<path fill=\"none\" stroke=\"black\" d=\"M383.91,-71.8C387.62,-63.71 391.73,-54.76 395.49,-46.55\"/>\n",
       "<polygon fill=\"black\" stroke=\"black\" points=\"398.56,-48.25 399.55,-37.71 392.2,-45.34 398.56,-48.25\"/>\n",
       "</g>\n",
       "<!-- 463 -->\n",
       "<g id=\"node10\" class=\"node\">\n",
       "<title>463</title>\n",
       "<polygon fill=\"#fafdfe\" stroke=\"black\" points=\"688.38,-125 505.88,-125 505.88,-72 688.38,-72 688.38,-125\"/>\n",
       "<text text-anchor=\"middle\" x=\"597.12\" y=\"-107.7\" font-family=\"Helvetica,sans-Serif\" font-size=\"14.00\">work_type_Govt_job &lt;= 0.5</text>\n",
       "<text text-anchor=\"middle\" x=\"597.12\" y=\"-92.7\" font-family=\"Helvetica,sans-Serif\" font-size=\"14.00\">samples = 42.4%</text>\n",
       "<text text-anchor=\"middle\" x=\"597.12\" y=\"-77.7\" font-family=\"Helvetica,sans-Serif\" font-size=\"14.00\">value = [0.494, 0.506]</text>\n",
       "</g>\n",
       "<!-- 462&#45;&gt;463 -->\n",
       "<g id=\"edge9\" class=\"edge\">\n",
       "<title>462&#45;&gt;463</title>\n",
       "<path fill=\"none\" stroke=\"black\" d=\"M599.95,-160.87C599.6,-153.24 599.2,-144.72 598.83,-136.51\"/>\n",
       "<polygon fill=\"black\" stroke=\"black\" points=\"602.33,-136.59 598.38,-126.76 595.34,-136.91 602.33,-136.59\"/>\n",
       "</g>\n",
       "<!-- 886 -->\n",
       "<g id=\"node13\" class=\"node\">\n",
       "<title>886</title>\n",
       "<polygon fill=\"#67b4eb\" stroke=\"black\" points=\"876,-125 706.25,-125 706.25,-72 876,-72 876,-125\"/>\n",
       "<text text-anchor=\"middle\" x=\"791.12\" y=\"-107.7\" font-family=\"Helvetica,sans-Serif\" font-size=\"14.00\">work_type_Private &lt;= 0.5</text>\n",
       "<text text-anchor=\"middle\" x=\"791.12\" y=\"-92.7\" font-family=\"Helvetica,sans-Serif\" font-size=\"14.00\">samples = 21.6%</text>\n",
       "<text text-anchor=\"middle\" x=\"791.12\" y=\"-77.7\" font-family=\"Helvetica,sans-Serif\" font-size=\"14.00\">value = [0.189, 0.811]</text>\n",
       "</g>\n",
       "<!-- 462&#45;&gt;886 -->\n",
       "<g id=\"edge12\" class=\"edge\">\n",
       "<title>462&#45;&gt;886</title>\n",
       "<path fill=\"none\" stroke=\"black\" d=\"M657.87,-160.51C678.74,-150.96 702.55,-140.06 724.22,-130.13\"/>\n",
       "<polygon fill=\"black\" stroke=\"black\" points=\"725.66,-133.33 733.29,-125.98 722.74,-126.96 725.66,-133.33\"/>\n",
       "</g>\n",
       "<!-- 464 -->\n",
       "<g id=\"node11\" class=\"node\">\n",
       "<title>464</title>\n",
       "<polygon fill=\"#c0c0c0\" stroke=\"black\" points=\"588.12,-36 534.12,-36 534.12,0 588.12,0 588.12,-36\"/>\n",
       "<text text-anchor=\"middle\" x=\"561.12\" y=\"-12.2\" font-family=\"Helvetica,sans-Serif\" font-size=\"14.00\">(...)</text>\n",
       "</g>\n",
       "<!-- 463&#45;&gt;464 -->\n",
       "<g id=\"edge10\" class=\"edge\">\n",
       "<title>463&#45;&gt;464</title>\n",
       "<path fill=\"none\" stroke=\"black\" d=\"M585.34,-71.8C581.63,-63.71 577.52,-54.76 573.76,-46.55\"/>\n",
       "<polygon fill=\"black\" stroke=\"black\" points=\"577.05,-45.34 569.7,-37.71 570.69,-48.25 577.05,-45.34\"/>\n",
       "</g>\n",
       "<!-- 821 -->\n",
       "<g id=\"node12\" class=\"node\">\n",
       "<title>821</title>\n",
       "<polygon fill=\"#c0c0c0\" stroke=\"black\" points=\"660.12,-36 606.12,-36 606.12,0 660.12,0 660.12,-36\"/>\n",
       "<text text-anchor=\"middle\" x=\"633.12\" y=\"-12.2\" font-family=\"Helvetica,sans-Serif\" font-size=\"14.00\">(...)</text>\n",
       "</g>\n",
       "<!-- 463&#45;&gt;821 -->\n",
       "<g id=\"edge11\" class=\"edge\">\n",
       "<title>463&#45;&gt;821</title>\n",
       "<path fill=\"none\" stroke=\"black\" d=\"M608.91,-71.8C612.62,-63.71 616.73,-54.76 620.49,-46.55\"/>\n",
       "<polygon fill=\"black\" stroke=\"black\" points=\"623.56,-48.25 624.55,-37.71 617.2,-45.34 623.56,-48.25\"/>\n",
       "</g>\n",
       "<!-- 887 -->\n",
       "<g id=\"node14\" class=\"node\">\n",
       "<title>887</title>\n",
       "<polygon fill=\"#c0c0c0\" stroke=\"black\" points=\"782.12,-36 728.12,-36 728.12,0 782.12,0 782.12,-36\"/>\n",
       "<text text-anchor=\"middle\" x=\"755.12\" y=\"-12.2\" font-family=\"Helvetica,sans-Serif\" font-size=\"14.00\">(...)</text>\n",
       "</g>\n",
       "<!-- 886&#45;&gt;887 -->\n",
       "<g id=\"edge13\" class=\"edge\">\n",
       "<title>886&#45;&gt;887</title>\n",
       "<path fill=\"none\" stroke=\"black\" d=\"M779.34,-71.8C775.63,-63.71 771.52,-54.76 767.76,-46.55\"/>\n",
       "<polygon fill=\"black\" stroke=\"black\" points=\"771.05,-45.34 763.7,-37.71 764.69,-48.25 771.05,-45.34\"/>\n",
       "</g>\n",
       "<!-- 946 -->\n",
       "<g id=\"node15\" class=\"node\">\n",
       "<title>946</title>\n",
       "<polygon fill=\"#c0c0c0\" stroke=\"black\" points=\"854.12,-36 800.12,-36 800.12,0 854.12,0 854.12,-36\"/>\n",
       "<text text-anchor=\"middle\" x=\"827.12\" y=\"-12.2\" font-family=\"Helvetica,sans-Serif\" font-size=\"14.00\">(...)</text>\n",
       "</g>\n",
       "<!-- 886&#45;&gt;946 -->\n",
       "<g id=\"edge14\" class=\"edge\">\n",
       "<title>886&#45;&gt;946</title>\n",
       "<path fill=\"none\" stroke=\"black\" d=\"M802.91,-71.8C806.62,-63.71 810.73,-54.76 814.49,-46.55\"/>\n",
       "<polygon fill=\"black\" stroke=\"black\" points=\"817.56,-48.25 818.55,-37.71 811.2,-45.34 817.56,-48.25\"/>\n",
       "</g>\n",
       "</g>\n",
       "</svg>\n"
      ],
      "text/plain": [
       "<graphviz.sources.Source at 0x12ef55710>"
      ]
     },
     "metadata": {},
     "output_type": "display_data"
    },
    {
     "data": {
      "image/svg+xml": [
       "<?xml version=\"1.0\" encoding=\"UTF-8\" standalone=\"no\"?>\n",
       "<!DOCTYPE svg PUBLIC \"-//W3C//DTD SVG 1.1//EN\"\n",
       " \"http://www.w3.org/Graphics/SVG/1.1/DTD/svg11.dtd\">\n",
       "<!-- Generated by graphviz version 9.0.0 (20230911.1827)\n",
       " -->\n",
       "<!-- Title: Tree Pages: 1 -->\n",
       "<svg width=\"754pt\" height=\"311pt\"\n",
       " viewBox=\"0.00 0.00 754.12 311.00\" xmlns=\"http://www.w3.org/2000/svg\" xmlns:xlink=\"http://www.w3.org/1999/xlink\">\n",
       "<g id=\"graph0\" class=\"graph\" transform=\"scale(1 1) rotate(0) translate(4 307)\">\n",
       "<title>Tree</title>\n",
       "<polygon fill=\"white\" stroke=\"none\" points=\"-4,4 -4,-307 750.12,-307 750.12,4 -4,4\"/>\n",
       "<!-- 0 -->\n",
       "<g id=\"node1\" class=\"node\">\n",
       "<title>0</title>\n",
       "<polygon fill=\"#f5fafe\" stroke=\"black\" points=\"448.62,-303 233.88,-303 233.88,-250 448.62,-250 448.62,-303\"/>\n",
       "<text text-anchor=\"middle\" x=\"341.25\" y=\"-285.7\" font-family=\"Helvetica,sans-Serif\" font-size=\"14.00\">work_type_Self&#45;employed &lt;= 0.5</text>\n",
       "<text text-anchor=\"middle\" x=\"341.25\" y=\"-270.7\" font-family=\"Helvetica,sans-Serif\" font-size=\"14.00\">samples = 100.0%</text>\n",
       "<text text-anchor=\"middle\" x=\"341.25\" y=\"-255.7\" font-family=\"Helvetica,sans-Serif\" font-size=\"14.00\">value = [0.487, 0.513]</text>\n",
       "</g>\n",
       "<!-- 1 -->\n",
       "<g id=\"node2\" class=\"node\">\n",
       "<title>1</title>\n",
       "<polygon fill=\"#f8dbc6\" stroke=\"black\" points=\"319.5,-214 173,-214 173,-161 319.5,-161 319.5,-214\"/>\n",
       "<text text-anchor=\"middle\" x=\"246.25\" y=\"-196.7\" font-family=\"Helvetica,sans-Serif\" font-size=\"14.00\">age &lt;= 47.047</text>\n",
       "<text text-anchor=\"middle\" x=\"246.25\" y=\"-181.7\" font-family=\"Helvetica,sans-Serif\" font-size=\"14.00\">samples = 70.8%</text>\n",
       "<text text-anchor=\"middle\" x=\"246.25\" y=\"-166.7\" font-family=\"Helvetica,sans-Serif\" font-size=\"14.00\">value = [0.584, 0.416]</text>\n",
       "</g>\n",
       "<!-- 0&#45;&gt;1 -->\n",
       "<g id=\"edge1\" class=\"edge\">\n",
       "<title>0&#45;&gt;1</title>\n",
       "<path fill=\"none\" stroke=\"black\" d=\"M313,-249.63C303.52,-240.95 292.8,-231.13 282.77,-221.94\"/>\n",
       "<polygon fill=\"black\" stroke=\"black\" points=\"285.41,-219.61 275.67,-215.44 280.68,-224.78 285.41,-219.61\"/>\n",
       "<text text-anchor=\"middle\" x=\"275.65\" y=\"-233.59\" font-family=\"Helvetica,sans-Serif\" font-size=\"14.00\">True</text>\n",
       "</g>\n",
       "<!-- 860 -->\n",
       "<g id=\"node9\" class=\"node\">\n",
       "<title>860</title>\n",
       "<polygon fill=\"#7fc0ee\" stroke=\"black\" points=\"534.88,-214 339.62,-214 339.62,-161 534.88,-161 534.88,-214\"/>\n",
       "<text text-anchor=\"middle\" x=\"437.25\" y=\"-196.7\" font-family=\"Helvetica,sans-Serif\" font-size=\"14.00\">Residence_type_Rural &lt;= 0.5</text>\n",
       "<text text-anchor=\"middle\" x=\"437.25\" y=\"-181.7\" font-family=\"Helvetica,sans-Serif\" font-size=\"14.00\">samples = 29.2%</text>\n",
       "<text text-anchor=\"middle\" x=\"437.25\" y=\"-166.7\" font-family=\"Helvetica,sans-Serif\" font-size=\"14.00\">value = [0.261, 0.739]</text>\n",
       "</g>\n",
       "<!-- 0&#45;&gt;860 -->\n",
       "<g id=\"edge8\" class=\"edge\">\n",
       "<title>0&#45;&gt;860</title>\n",
       "<path fill=\"none\" stroke=\"black\" d=\"M369.79,-249.63C379.38,-240.95 390.21,-231.13 400.35,-221.94\"/>\n",
       "<polygon fill=\"black\" stroke=\"black\" points=\"402.47,-224.74 407.53,-215.43 397.77,-219.56 402.47,-224.74\"/>\n",
       "<text text-anchor=\"middle\" x=\"407.42\" y=\"-233.59\" font-family=\"Helvetica,sans-Serif\" font-size=\"14.00\">False</text>\n",
       "</g>\n",
       "<!-- 2 -->\n",
       "<g id=\"node3\" class=\"node\">\n",
       "<title>2</title>\n",
       "<polygon fill=\"#e78845\" stroke=\"black\" points=\"146.5,-125 0,-125 0,-72 146.5,-72 146.5,-125\"/>\n",
       "<text text-anchor=\"middle\" x=\"73.25\" y=\"-107.7\" font-family=\"Helvetica,sans-Serif\" font-size=\"14.00\">age &lt;= 41.044</text>\n",
       "<text text-anchor=\"middle\" x=\"73.25\" y=\"-92.7\" font-family=\"Helvetica,sans-Serif\" font-size=\"14.00\">samples = 26.8%</text>\n",
       "<text text-anchor=\"middle\" x=\"73.25\" y=\"-77.7\" font-family=\"Helvetica,sans-Serif\" font-size=\"14.00\">value = [0.945, 0.055]</text>\n",
       "</g>\n",
       "<!-- 1&#45;&gt;2 -->\n",
       "<g id=\"edge2\" class=\"edge\">\n",
       "<title>1&#45;&gt;2</title>\n",
       "<path fill=\"none\" stroke=\"black\" d=\"M194.81,-160.63C175.98,-151.16 154.49,-140.35 134.86,-130.48\"/>\n",
       "<polygon fill=\"black\" stroke=\"black\" points=\"136.65,-127.46 126.14,-126.1 133.5,-133.72 136.65,-127.46\"/>\n",
       "</g>\n",
       "<!-- 133 -->\n",
       "<g id=\"node6\" class=\"node\">\n",
       "<title>133</title>\n",
       "<polygon fill=\"#abd6f4\" stroke=\"black\" points=\"328.12,-125 164.38,-125 164.38,-72 328.12,-72 328.12,-125\"/>\n",
       "<text text-anchor=\"middle\" x=\"246.25\" y=\"-107.7\" font-family=\"Helvetica,sans-Serif\" font-size=\"14.00\">ever_married_No &lt;= 0.5</text>\n",
       "<text text-anchor=\"middle\" x=\"246.25\" y=\"-92.7\" font-family=\"Helvetica,sans-Serif\" font-size=\"14.00\">samples = 44.0%</text>\n",
       "<text text-anchor=\"middle\" x=\"246.25\" y=\"-77.7\" font-family=\"Helvetica,sans-Serif\" font-size=\"14.00\">value = [0.366, 0.634]</text>\n",
       "</g>\n",
       "<!-- 1&#45;&gt;133 -->\n",
       "<g id=\"edge5\" class=\"edge\">\n",
       "<title>1&#45;&gt;133</title>\n",
       "<path fill=\"none\" stroke=\"black\" d=\"M246.25,-160.87C246.25,-153.24 246.25,-144.72 246.25,-136.51\"/>\n",
       "<polygon fill=\"black\" stroke=\"black\" points=\"249.75,-136.76 246.25,-126.76 242.75,-136.76 249.75,-136.76\"/>\n",
       "</g>\n",
       "<!-- 3 -->\n",
       "<g id=\"node4\" class=\"node\">\n",
       "<title>3</title>\n",
       "<polygon fill=\"#c0c0c0\" stroke=\"black\" points=\"64.25,-36 10.25,-36 10.25,0 64.25,0 64.25,-36\"/>\n",
       "<text text-anchor=\"middle\" x=\"37.25\" y=\"-12.2\" font-family=\"Helvetica,sans-Serif\" font-size=\"14.00\">(...)</text>\n",
       "</g>\n",
       "<!-- 2&#45;&gt;3 -->\n",
       "<g id=\"edge3\" class=\"edge\">\n",
       "<title>2&#45;&gt;3</title>\n",
       "<path fill=\"none\" stroke=\"black\" d=\"M61.46,-71.8C57.76,-63.71 53.65,-54.76 49.88,-46.55\"/>\n",
       "<polygon fill=\"black\" stroke=\"black\" points=\"53.18,-45.34 45.83,-37.71 46.82,-48.25 53.18,-45.34\"/>\n",
       "</g>\n",
       "<!-- 60 -->\n",
       "<g id=\"node5\" class=\"node\">\n",
       "<title>60</title>\n",
       "<polygon fill=\"#c0c0c0\" stroke=\"black\" points=\"136.25,-36 82.25,-36 82.25,0 136.25,0 136.25,-36\"/>\n",
       "<text text-anchor=\"middle\" x=\"109.25\" y=\"-12.2\" font-family=\"Helvetica,sans-Serif\" font-size=\"14.00\">(...)</text>\n",
       "</g>\n",
       "<!-- 2&#45;&gt;60 -->\n",
       "<g id=\"edge4\" class=\"edge\">\n",
       "<title>2&#45;&gt;60</title>\n",
       "<path fill=\"none\" stroke=\"black\" d=\"M85.04,-71.8C88.74,-63.71 92.85,-54.76 96.62,-46.55\"/>\n",
       "<polygon fill=\"black\" stroke=\"black\" points=\"99.68,-48.25 100.67,-37.71 93.32,-45.34 99.68,-48.25\"/>\n",
       "</g>\n",
       "<!-- 134 -->\n",
       "<g id=\"node7\" class=\"node\">\n",
       "<title>134</title>\n",
       "<polygon fill=\"#c0c0c0\" stroke=\"black\" points=\"250.25,-36 196.25,-36 196.25,0 250.25,0 250.25,-36\"/>\n",
       "<text text-anchor=\"middle\" x=\"223.25\" y=\"-12.2\" font-family=\"Helvetica,sans-Serif\" font-size=\"14.00\">(...)</text>\n",
       "</g>\n",
       "<!-- 133&#45;&gt;134 -->\n",
       "<g id=\"edge6\" class=\"edge\">\n",
       "<title>133&#45;&gt;134</title>\n",
       "<path fill=\"none\" stroke=\"black\" d=\"M238.72,-71.8C236.4,-63.89 233.84,-55.16 231.48,-47.1\"/>\n",
       "<polygon fill=\"black\" stroke=\"black\" points=\"234.92,-46.4 228.75,-37.78 228.21,-48.36 234.92,-46.4\"/>\n",
       "</g>\n",
       "<!-- 797 -->\n",
       "<g id=\"node8\" class=\"node\">\n",
       "<title>797</title>\n",
       "<polygon fill=\"#c0c0c0\" stroke=\"black\" points=\"322.25,-36 268.25,-36 268.25,0 322.25,0 322.25,-36\"/>\n",
       "<text text-anchor=\"middle\" x=\"295.25\" y=\"-12.2\" font-family=\"Helvetica,sans-Serif\" font-size=\"14.00\">(...)</text>\n",
       "</g>\n",
       "<!-- 133&#45;&gt;797 -->\n",
       "<g id=\"edge7\" class=\"edge\">\n",
       "<title>133&#45;&gt;797</title>\n",
       "<path fill=\"none\" stroke=\"black\" d=\"M262.29,-71.8C267.45,-63.53 273.18,-54.35 278.4,-46\"/>\n",
       "<polygon fill=\"black\" stroke=\"black\" points=\"281.3,-47.95 283.63,-37.61 275.37,-44.24 281.3,-47.95\"/>\n",
       "</g>\n",
       "<!-- 861 -->\n",
       "<g id=\"node10\" class=\"node\">\n",
       "<title>861</title>\n",
       "<polygon fill=\"#aed7f4\" stroke=\"black\" points=\"528.5,-125 346,-125 346,-72 528.5,-72 528.5,-125\"/>\n",
       "<text text-anchor=\"middle\" x=\"437.25\" y=\"-107.7\" font-family=\"Helvetica,sans-Serif\" font-size=\"14.00\">work_type_Govt_job &lt;= 0.5</text>\n",
       "<text text-anchor=\"middle\" x=\"437.25\" y=\"-92.7\" font-family=\"Helvetica,sans-Serif\" font-size=\"14.00\">samples = 10.0%</text>\n",
       "<text text-anchor=\"middle\" x=\"437.25\" y=\"-77.7\" font-family=\"Helvetica,sans-Serif\" font-size=\"14.00\">value = [0.372, 0.628]</text>\n",
       "</g>\n",
       "<!-- 860&#45;&gt;861 -->\n",
       "<g id=\"edge9\" class=\"edge\">\n",
       "<title>860&#45;&gt;861</title>\n",
       "<path fill=\"none\" stroke=\"black\" d=\"M437.25,-160.87C437.25,-153.24 437.25,-144.72 437.25,-136.51\"/>\n",
       "<polygon fill=\"black\" stroke=\"black\" points=\"440.75,-136.76 437.25,-126.76 433.75,-136.76 440.75,-136.76\"/>\n",
       "</g>\n",
       "<!-- 1000 -->\n",
       "<g id=\"node13\" class=\"node\">\n",
       "<title>1000</title>\n",
       "<polygon fill=\"#6bb6ec\" stroke=\"black\" points=\"746.12,-125 546.38,-125 546.38,-72 746.12,-72 746.12,-125\"/>\n",
       "<text text-anchor=\"middle\" x=\"646.25\" y=\"-107.7\" font-family=\"Helvetica,sans-Serif\" font-size=\"14.00\">Residence_type_Urban &lt;= 0.5</text>\n",
       "<text text-anchor=\"middle\" x=\"646.25\" y=\"-92.7\" font-family=\"Helvetica,sans-Serif\" font-size=\"14.00\">samples = 19.2%</text>\n",
       "<text text-anchor=\"middle\" x=\"646.25\" y=\"-77.7\" font-family=\"Helvetica,sans-Serif\" font-size=\"14.00\">value = [0.2, 0.8]</text>\n",
       "</g>\n",
       "<!-- 860&#45;&gt;1000 -->\n",
       "<g id=\"edge12\" class=\"edge\">\n",
       "<title>860&#45;&gt;1000</title>\n",
       "<path fill=\"none\" stroke=\"black\" d=\"M499.67,-160.51C522.93,-150.83 549.53,-139.76 573.63,-129.73\"/>\n",
       "<polygon fill=\"black\" stroke=\"black\" points=\"574.86,-133.01 582.75,-125.93 572.17,-126.54 574.86,-133.01\"/>\n",
       "</g>\n",
       "<!-- 862 -->\n",
       "<g id=\"node11\" class=\"node\">\n",
       "<title>862</title>\n",
       "<polygon fill=\"#c0c0c0\" stroke=\"black\" points=\"414.25,-36 360.25,-36 360.25,0 414.25,0 414.25,-36\"/>\n",
       "<text text-anchor=\"middle\" x=\"387.25\" y=\"-12.2\" font-family=\"Helvetica,sans-Serif\" font-size=\"14.00\">(...)</text>\n",
       "</g>\n",
       "<!-- 861&#45;&gt;862 -->\n",
       "<g id=\"edge10\" class=\"edge\">\n",
       "<title>861&#45;&gt;862</title>\n",
       "<path fill=\"none\" stroke=\"black\" d=\"M420.88,-71.8C415.61,-63.53 409.77,-54.35 404.45,-46\"/>\n",
       "<polygon fill=\"black\" stroke=\"black\" points=\"407.43,-44.16 399.1,-37.61 401.52,-47.92 407.43,-44.16\"/>\n",
       "</g>\n",
       "<!-- 999 -->\n",
       "<g id=\"node12\" class=\"node\">\n",
       "<title>999</title>\n",
       "<polygon fill=\"#c0c0c0\" stroke=\"black\" points=\"486.25,-36 432.25,-36 432.25,0 486.25,0 486.25,-36\"/>\n",
       "<text text-anchor=\"middle\" x=\"459.25\" y=\"-12.2\" font-family=\"Helvetica,sans-Serif\" font-size=\"14.00\">(...)</text>\n",
       "</g>\n",
       "<!-- 861&#45;&gt;999 -->\n",
       "<g id=\"edge11\" class=\"edge\">\n",
       "<title>861&#45;&gt;999</title>\n",
       "<path fill=\"none\" stroke=\"black\" d=\"M444.45,-71.8C446.64,-63.99 449.06,-55.36 451.3,-47.38\"/>\n",
       "<polygon fill=\"black\" stroke=\"black\" points=\"454.66,-48.36 453.98,-37.79 447.92,-46.47 454.66,-48.36\"/>\n",
       "</g>\n",
       "<!-- 1001 -->\n",
       "<g id=\"node14\" class=\"node\">\n",
       "<title>1001</title>\n",
       "<polygon fill=\"#c0c0c0\" stroke=\"black\" points=\"637.25,-36 583.25,-36 583.25,0 637.25,0 637.25,-36\"/>\n",
       "<text text-anchor=\"middle\" x=\"610.25\" y=\"-12.2\" font-family=\"Helvetica,sans-Serif\" font-size=\"14.00\">(...)</text>\n",
       "</g>\n",
       "<!-- 1000&#45;&gt;1001 -->\n",
       "<g id=\"edge13\" class=\"edge\">\n",
       "<title>1000&#45;&gt;1001</title>\n",
       "<path fill=\"none\" stroke=\"black\" d=\"M634.46,-71.8C630.76,-63.71 626.65,-54.76 622.88,-46.55\"/>\n",
       "<polygon fill=\"black\" stroke=\"black\" points=\"626.18,-45.34 618.83,-37.71 619.82,-48.25 626.18,-45.34\"/>\n",
       "</g>\n",
       "<!-- 1128 -->\n",
       "<g id=\"node15\" class=\"node\">\n",
       "<title>1128</title>\n",
       "<polygon fill=\"#c0c0c0\" stroke=\"black\" points=\"709.25,-36 655.25,-36 655.25,0 709.25,0 709.25,-36\"/>\n",
       "<text text-anchor=\"middle\" x=\"682.25\" y=\"-12.2\" font-family=\"Helvetica,sans-Serif\" font-size=\"14.00\">(...)</text>\n",
       "</g>\n",
       "<!-- 1000&#45;&gt;1128 -->\n",
       "<g id=\"edge14\" class=\"edge\">\n",
       "<title>1000&#45;&gt;1128</title>\n",
       "<path fill=\"none\" stroke=\"black\" d=\"M658.04,-71.8C661.74,-63.71 665.85,-54.76 669.62,-46.55\"/>\n",
       "<polygon fill=\"black\" stroke=\"black\" points=\"672.68,-48.25 673.67,-37.71 666.32,-45.34 672.68,-48.25\"/>\n",
       "</g>\n",
       "</g>\n",
       "</svg>\n"
      ],
      "text/plain": [
       "<graphviz.sources.Source at 0x12bd94b50>"
      ]
     },
     "metadata": {},
     "output_type": "display_data"
    }
   ],
   "source": [
    "from sklearn.tree import export_graphviz\n",
    "from IPython.display import Image\n",
    "import graphviz\n",
    "# Export the first three decision trees from the forest\n",
    "for i in range(3):\n",
    "    tree = rf.estimators_[i]\n",
    "    dot_data = export_graphviz(tree,\n",
    "                               feature_names=X_train.columns,  \n",
    "                               filled=True,  \n",
    "                               max_depth=2, \n",
    "                               impurity=False, \n",
    "                               proportion=True)\n",
    "    graph = graphviz.Source(dot_data)\n",
    "    display(graph)"
   ]
  },
  {
   "cell_type": "code",
   "execution_count": 71,
   "id": "1af79ea2",
   "metadata": {
    "collapsed": true
   },
   "outputs": [
    {
     "name": "stderr",
     "output_type": "stream",
     "text": [
      "/Users/tranvo1233/anaconda3/envs/sad/lib/python3.11/site-packages/sklearn/base.py:1151: DataConversionWarning: A column-vector y was passed when a 1d array was expected. Please change the shape of y to (n_samples,), for example using ravel().\n",
      "  return fit_method(estimator, *args, **kwargs)\n",
      "/Users/tranvo1233/anaconda3/envs/sad/lib/python3.11/site-packages/sklearn/base.py:1151: DataConversionWarning: A column-vector y was passed when a 1d array was expected. Please change the shape of y to (n_samples,), for example using ravel().\n",
      "  return fit_method(estimator, *args, **kwargs)\n",
      "/Users/tranvo1233/anaconda3/envs/sad/lib/python3.11/site-packages/sklearn/base.py:1151: DataConversionWarning: A column-vector y was passed when a 1d array was expected. Please change the shape of y to (n_samples,), for example using ravel().\n",
      "  return fit_method(estimator, *args, **kwargs)\n",
      "/Users/tranvo1233/anaconda3/envs/sad/lib/python3.11/site-packages/sklearn/base.py:1151: DataConversionWarning: A column-vector y was passed when a 1d array was expected. Please change the shape of y to (n_samples,), for example using ravel().\n",
      "  return fit_method(estimator, *args, **kwargs)\n",
      "/Users/tranvo1233/anaconda3/envs/sad/lib/python3.11/site-packages/sklearn/base.py:1151: DataConversionWarning: A column-vector y was passed when a 1d array was expected. Please change the shape of y to (n_samples,), for example using ravel().\n",
      "  return fit_method(estimator, *args, **kwargs)\n",
      "/Users/tranvo1233/anaconda3/envs/sad/lib/python3.11/site-packages/sklearn/base.py:1151: DataConversionWarning: A column-vector y was passed when a 1d array was expected. Please change the shape of y to (n_samples,), for example using ravel().\n",
      "  return fit_method(estimator, *args, **kwargs)\n",
      "/Users/tranvo1233/anaconda3/envs/sad/lib/python3.11/site-packages/sklearn/base.py:1151: DataConversionWarning: A column-vector y was passed when a 1d array was expected. Please change the shape of y to (n_samples,), for example using ravel().\n",
      "  return fit_method(estimator, *args, **kwargs)\n",
      "/Users/tranvo1233/anaconda3/envs/sad/lib/python3.11/site-packages/sklearn/base.py:1151: DataConversionWarning: A column-vector y was passed when a 1d array was expected. Please change the shape of y to (n_samples,), for example using ravel().\n",
      "  return fit_method(estimator, *args, **kwargs)\n",
      "/Users/tranvo1233/anaconda3/envs/sad/lib/python3.11/site-packages/sklearn/base.py:1151: DataConversionWarning: A column-vector y was passed when a 1d array was expected. Please change the shape of y to (n_samples,), for example using ravel().\n",
      "  return fit_method(estimator, *args, **kwargs)\n",
      "/Users/tranvo1233/anaconda3/envs/sad/lib/python3.11/site-packages/sklearn/base.py:1151: DataConversionWarning: A column-vector y was passed when a 1d array was expected. Please change the shape of y to (n_samples,), for example using ravel().\n",
      "  return fit_method(estimator, *args, **kwargs)\n",
      "/Users/tranvo1233/anaconda3/envs/sad/lib/python3.11/site-packages/sklearn/base.py:1151: DataConversionWarning: A column-vector y was passed when a 1d array was expected. Please change the shape of y to (n_samples,), for example using ravel().\n",
      "  return fit_method(estimator, *args, **kwargs)\n",
      "/Users/tranvo1233/anaconda3/envs/sad/lib/python3.11/site-packages/sklearn/base.py:1151: DataConversionWarning: A column-vector y was passed when a 1d array was expected. Please change the shape of y to (n_samples,), for example using ravel().\n",
      "  return fit_method(estimator, *args, **kwargs)\n",
      "/Users/tranvo1233/anaconda3/envs/sad/lib/python3.11/site-packages/sklearn/base.py:1151: DataConversionWarning: A column-vector y was passed when a 1d array was expected. Please change the shape of y to (n_samples,), for example using ravel().\n",
      "  return fit_method(estimator, *args, **kwargs)\n",
      "/Users/tranvo1233/anaconda3/envs/sad/lib/python3.11/site-packages/sklearn/base.py:1151: DataConversionWarning: A column-vector y was passed when a 1d array was expected. Please change the shape of y to (n_samples,), for example using ravel().\n",
      "  return fit_method(estimator, *args, **kwargs)\n",
      "/Users/tranvo1233/anaconda3/envs/sad/lib/python3.11/site-packages/sklearn/base.py:1151: DataConversionWarning: A column-vector y was passed when a 1d array was expected. Please change the shape of y to (n_samples,), for example using ravel().\n",
      "  return fit_method(estimator, *args, **kwargs)\n",
      "/Users/tranvo1233/anaconda3/envs/sad/lib/python3.11/site-packages/sklearn/base.py:1151: DataConversionWarning: A column-vector y was passed when a 1d array was expected. Please change the shape of y to (n_samples,), for example using ravel().\n",
      "  return fit_method(estimator, *args, **kwargs)\n",
      "/Users/tranvo1233/anaconda3/envs/sad/lib/python3.11/site-packages/sklearn/base.py:1151: DataConversionWarning: A column-vector y was passed when a 1d array was expected. Please change the shape of y to (n_samples,), for example using ravel().\n",
      "  return fit_method(estimator, *args, **kwargs)\n",
      "/Users/tranvo1233/anaconda3/envs/sad/lib/python3.11/site-packages/sklearn/base.py:1151: DataConversionWarning: A column-vector y was passed when a 1d array was expected. Please change the shape of y to (n_samples,), for example using ravel().\n",
      "  return fit_method(estimator, *args, **kwargs)\n",
      "/Users/tranvo1233/anaconda3/envs/sad/lib/python3.11/site-packages/sklearn/base.py:1151: DataConversionWarning: A column-vector y was passed when a 1d array was expected. Please change the shape of y to (n_samples,), for example using ravel().\n",
      "  return fit_method(estimator, *args, **kwargs)\n",
      "/Users/tranvo1233/anaconda3/envs/sad/lib/python3.11/site-packages/sklearn/base.py:1151: DataConversionWarning: A column-vector y was passed when a 1d array was expected. Please change the shape of y to (n_samples,), for example using ravel().\n",
      "  return fit_method(estimator, *args, **kwargs)\n",
      "/Users/tranvo1233/anaconda3/envs/sad/lib/python3.11/site-packages/sklearn/base.py:1151: DataConversionWarning: A column-vector y was passed when a 1d array was expected. Please change the shape of y to (n_samples,), for example using ravel().\n",
      "  return fit_method(estimator, *args, **kwargs)\n",
      "/Users/tranvo1233/anaconda3/envs/sad/lib/python3.11/site-packages/sklearn/base.py:1151: DataConversionWarning: A column-vector y was passed when a 1d array was expected. Please change the shape of y to (n_samples,), for example using ravel().\n",
      "  return fit_method(estimator, *args, **kwargs)\n",
      "/Users/tranvo1233/anaconda3/envs/sad/lib/python3.11/site-packages/sklearn/base.py:1151: DataConversionWarning: A column-vector y was passed when a 1d array was expected. Please change the shape of y to (n_samples,), for example using ravel().\n",
      "  return fit_method(estimator, *args, **kwargs)\n",
      "/Users/tranvo1233/anaconda3/envs/sad/lib/python3.11/site-packages/sklearn/base.py:1151: DataConversionWarning: A column-vector y was passed when a 1d array was expected. Please change the shape of y to (n_samples,), for example using ravel().\n",
      "  return fit_method(estimator, *args, **kwargs)\n",
      "/Users/tranvo1233/anaconda3/envs/sad/lib/python3.11/site-packages/sklearn/base.py:1151: DataConversionWarning: A column-vector y was passed when a 1d array was expected. Please change the shape of y to (n_samples,), for example using ravel().\n",
      "  return fit_method(estimator, *args, **kwargs)\n",
      "/Users/tranvo1233/anaconda3/envs/sad/lib/python3.11/site-packages/sklearn/base.py:1151: DataConversionWarning: A column-vector y was passed when a 1d array was expected. Please change the shape of y to (n_samples,), for example using ravel().\n",
      "  return fit_method(estimator, *args, **kwargs)\n"
     ]
    },
    {
     "data": {
      "text/html": [
       "<style>#sk-container-id-6 {color: black;}#sk-container-id-6 pre{padding: 0;}#sk-container-id-6 div.sk-toggleable {background-color: white;}#sk-container-id-6 label.sk-toggleable__label {cursor: pointer;display: block;width: 100%;margin-bottom: 0;padding: 0.3em;box-sizing: border-box;text-align: center;}#sk-container-id-6 label.sk-toggleable__label-arrow:before {content: \"▸\";float: left;margin-right: 0.25em;color: #696969;}#sk-container-id-6 label.sk-toggleable__label-arrow:hover:before {color: black;}#sk-container-id-6 div.sk-estimator:hover label.sk-toggleable__label-arrow:before {color: black;}#sk-container-id-6 div.sk-toggleable__content {max-height: 0;max-width: 0;overflow: hidden;text-align: left;background-color: #f0f8ff;}#sk-container-id-6 div.sk-toggleable__content pre {margin: 0.2em;color: black;border-radius: 0.25em;background-color: #f0f8ff;}#sk-container-id-6 input.sk-toggleable__control:checked~div.sk-toggleable__content {max-height: 200px;max-width: 100%;overflow: auto;}#sk-container-id-6 input.sk-toggleable__control:checked~label.sk-toggleable__label-arrow:before {content: \"▾\";}#sk-container-id-6 div.sk-estimator input.sk-toggleable__control:checked~label.sk-toggleable__label {background-color: #d4ebff;}#sk-container-id-6 div.sk-label input.sk-toggleable__control:checked~label.sk-toggleable__label {background-color: #d4ebff;}#sk-container-id-6 input.sk-hidden--visually {border: 0;clip: rect(1px 1px 1px 1px);clip: rect(1px, 1px, 1px, 1px);height: 1px;margin: -1px;overflow: hidden;padding: 0;position: absolute;width: 1px;}#sk-container-id-6 div.sk-estimator {font-family: monospace;background-color: #f0f8ff;border: 1px dotted black;border-radius: 0.25em;box-sizing: border-box;margin-bottom: 0.5em;}#sk-container-id-6 div.sk-estimator:hover {background-color: #d4ebff;}#sk-container-id-6 div.sk-parallel-item::after {content: \"\";width: 100%;border-bottom: 1px solid gray;flex-grow: 1;}#sk-container-id-6 div.sk-label:hover label.sk-toggleable__label {background-color: #d4ebff;}#sk-container-id-6 div.sk-serial::before {content: \"\";position: absolute;border-left: 1px solid gray;box-sizing: border-box;top: 0;bottom: 0;left: 50%;z-index: 0;}#sk-container-id-6 div.sk-serial {display: flex;flex-direction: column;align-items: center;background-color: white;padding-right: 0.2em;padding-left: 0.2em;position: relative;}#sk-container-id-6 div.sk-item {position: relative;z-index: 1;}#sk-container-id-6 div.sk-parallel {display: flex;align-items: stretch;justify-content: center;background-color: white;position: relative;}#sk-container-id-6 div.sk-item::before, #sk-container-id-6 div.sk-parallel-item::before {content: \"\";position: absolute;border-left: 1px solid gray;box-sizing: border-box;top: 0;bottom: 0;left: 50%;z-index: -1;}#sk-container-id-6 div.sk-parallel-item {display: flex;flex-direction: column;z-index: 1;position: relative;background-color: white;}#sk-container-id-6 div.sk-parallel-item:first-child::after {align-self: flex-end;width: 50%;}#sk-container-id-6 div.sk-parallel-item:last-child::after {align-self: flex-start;width: 50%;}#sk-container-id-6 div.sk-parallel-item:only-child::after {width: 0;}#sk-container-id-6 div.sk-dashed-wrapped {border: 1px dashed gray;margin: 0 0.4em 0.5em 0.4em;box-sizing: border-box;padding-bottom: 0.4em;background-color: white;}#sk-container-id-6 div.sk-label label {font-family: monospace;font-weight: bold;display: inline-block;line-height: 1.2em;}#sk-container-id-6 div.sk-label-container {text-align: center;}#sk-container-id-6 div.sk-container {/* jupyter's `normalize.less` sets `[hidden] { display: none; }` but bootstrap.min.css set `[hidden] { display: none !important; }` so we also need the `!important` here to be able to override the default hidden behavior on the sphinx rendered scikit-learn.org. See: https://github.com/scikit-learn/scikit-learn/issues/21755 */display: inline-block !important;position: relative;}#sk-container-id-6 div.sk-text-repr-fallback {display: none;}</style><div id=\"sk-container-id-6\" class=\"sk-top-container\"><div class=\"sk-text-repr-fallback\"><pre>RandomizedSearchCV(cv=5, estimator=RandomForestClassifier(), n_iter=5,\n",
       "                   param_distributions={&#x27;max_depth&#x27;: &lt;scipy.stats._distn_infrastructure.rv_discrete_frozen object at 0x12df44310&gt;,\n",
       "                                        &#x27;n_estimators&#x27;: &lt;scipy.stats._distn_infrastructure.rv_discrete_frozen object at 0x12eccf790&gt;})</pre><b>In a Jupyter environment, please rerun this cell to show the HTML representation or trust the notebook. <br />On GitHub, the HTML representation is unable to render, please try loading this page with nbviewer.org.</b></div><div class=\"sk-container\" hidden><div class=\"sk-item sk-dashed-wrapped\"><div class=\"sk-label-container\"><div class=\"sk-label sk-toggleable\"><input class=\"sk-toggleable__control sk-hidden--visually\" id=\"sk-estimator-id-6\" type=\"checkbox\" ><label for=\"sk-estimator-id-6\" class=\"sk-toggleable__label sk-toggleable__label-arrow\">RandomizedSearchCV</label><div class=\"sk-toggleable__content\"><pre>RandomizedSearchCV(cv=5, estimator=RandomForestClassifier(), n_iter=5,\n",
       "                   param_distributions={&#x27;max_depth&#x27;: &lt;scipy.stats._distn_infrastructure.rv_discrete_frozen object at 0x12df44310&gt;,\n",
       "                                        &#x27;n_estimators&#x27;: &lt;scipy.stats._distn_infrastructure.rv_discrete_frozen object at 0x12eccf790&gt;})</pre></div></div></div><div class=\"sk-parallel\"><div class=\"sk-parallel-item\"><div class=\"sk-item\"><div class=\"sk-label-container\"><div class=\"sk-label sk-toggleable\"><input class=\"sk-toggleable__control sk-hidden--visually\" id=\"sk-estimator-id-7\" type=\"checkbox\" ><label for=\"sk-estimator-id-7\" class=\"sk-toggleable__label sk-toggleable__label-arrow\">estimator: RandomForestClassifier</label><div class=\"sk-toggleable__content\"><pre>RandomForestClassifier()</pre></div></div></div><div class=\"sk-serial\"><div class=\"sk-item\"><div class=\"sk-estimator sk-toggleable\"><input class=\"sk-toggleable__control sk-hidden--visually\" id=\"sk-estimator-id-8\" type=\"checkbox\" ><label for=\"sk-estimator-id-8\" class=\"sk-toggleable__label sk-toggleable__label-arrow\">RandomForestClassifier</label><div class=\"sk-toggleable__content\"><pre>RandomForestClassifier()</pre></div></div></div></div></div></div></div></div></div></div>"
      ],
      "text/plain": [
       "RandomizedSearchCV(cv=5, estimator=RandomForestClassifier(), n_iter=5,\n",
       "                   param_distributions={'max_depth': <scipy.stats._distn_infrastructure.rv_discrete_frozen object at 0x12df44310>,\n",
       "                                        'n_estimators': <scipy.stats._distn_infrastructure.rv_discrete_frozen object at 0x12eccf790>})"
      ]
     },
     "execution_count": 71,
     "metadata": {},
     "output_type": "execute_result"
    }
   ],
   "source": [
    "param_dist = {'n_estimators': randint(50,500),\n",
    "              'max_depth': randint(1,20)}\n",
    "\n",
    "rf = RandomForestClassifier()\n",
    "\n",
    "rand_search = RandomizedSearchCV(rf, \n",
    "                                 param_distributions = param_dist, \n",
    "                                 n_iter=5, \n",
    "                                 cv=5)\n",
    "\n",
    "rand_search.fit(X_train, y_train)"
   ]
  },
  {
   "cell_type": "code",
   "execution_count": 72,
   "id": "e24e3587",
   "metadata": {},
   "outputs": [
    {
     "name": "stdout",
     "output_type": "stream",
     "text": [
      "Best hyperparameters: {'max_depth': 17, 'n_estimators': 461}\n"
     ]
    }
   ],
   "source": [
    "best_rf = rand_search.best_estimator_\n",
    "\n",
    "print('Best hyperparameters:',  rand_search.best_params_)"
   ]
  },
  {
   "cell_type": "code",
   "execution_count": 73,
   "id": "94689f19",
   "metadata": {},
   "outputs": [
    {
     "name": "stderr",
     "output_type": "stream",
     "text": [
      "/Users/tranvo1233/anaconda3/envs/sad/lib/python3.11/site-packages/sklearn/base.py:1151: DataConversionWarning: A column-vector y was passed when a 1d array was expected. Please change the shape of y to (n_samples,), for example using ravel().\n",
      "  return fit_method(estimator, *args, **kwargs)\n"
     ]
    },
    {
     "data": {
      "text/html": [
       "<style>#sk-container-id-7 {color: black;}#sk-container-id-7 pre{padding: 0;}#sk-container-id-7 div.sk-toggleable {background-color: white;}#sk-container-id-7 label.sk-toggleable__label {cursor: pointer;display: block;width: 100%;margin-bottom: 0;padding: 0.3em;box-sizing: border-box;text-align: center;}#sk-container-id-7 label.sk-toggleable__label-arrow:before {content: \"▸\";float: left;margin-right: 0.25em;color: #696969;}#sk-container-id-7 label.sk-toggleable__label-arrow:hover:before {color: black;}#sk-container-id-7 div.sk-estimator:hover label.sk-toggleable__label-arrow:before {color: black;}#sk-container-id-7 div.sk-toggleable__content {max-height: 0;max-width: 0;overflow: hidden;text-align: left;background-color: #f0f8ff;}#sk-container-id-7 div.sk-toggleable__content pre {margin: 0.2em;color: black;border-radius: 0.25em;background-color: #f0f8ff;}#sk-container-id-7 input.sk-toggleable__control:checked~div.sk-toggleable__content {max-height: 200px;max-width: 100%;overflow: auto;}#sk-container-id-7 input.sk-toggleable__control:checked~label.sk-toggleable__label-arrow:before {content: \"▾\";}#sk-container-id-7 div.sk-estimator input.sk-toggleable__control:checked~label.sk-toggleable__label {background-color: #d4ebff;}#sk-container-id-7 div.sk-label input.sk-toggleable__control:checked~label.sk-toggleable__label {background-color: #d4ebff;}#sk-container-id-7 input.sk-hidden--visually {border: 0;clip: rect(1px 1px 1px 1px);clip: rect(1px, 1px, 1px, 1px);height: 1px;margin: -1px;overflow: hidden;padding: 0;position: absolute;width: 1px;}#sk-container-id-7 div.sk-estimator {font-family: monospace;background-color: #f0f8ff;border: 1px dotted black;border-radius: 0.25em;box-sizing: border-box;margin-bottom: 0.5em;}#sk-container-id-7 div.sk-estimator:hover {background-color: #d4ebff;}#sk-container-id-7 div.sk-parallel-item::after {content: \"\";width: 100%;border-bottom: 1px solid gray;flex-grow: 1;}#sk-container-id-7 div.sk-label:hover label.sk-toggleable__label {background-color: #d4ebff;}#sk-container-id-7 div.sk-serial::before {content: \"\";position: absolute;border-left: 1px solid gray;box-sizing: border-box;top: 0;bottom: 0;left: 50%;z-index: 0;}#sk-container-id-7 div.sk-serial {display: flex;flex-direction: column;align-items: center;background-color: white;padding-right: 0.2em;padding-left: 0.2em;position: relative;}#sk-container-id-7 div.sk-item {position: relative;z-index: 1;}#sk-container-id-7 div.sk-parallel {display: flex;align-items: stretch;justify-content: center;background-color: white;position: relative;}#sk-container-id-7 div.sk-item::before, #sk-container-id-7 div.sk-parallel-item::before {content: \"\";position: absolute;border-left: 1px solid gray;box-sizing: border-box;top: 0;bottom: 0;left: 50%;z-index: -1;}#sk-container-id-7 div.sk-parallel-item {display: flex;flex-direction: column;z-index: 1;position: relative;background-color: white;}#sk-container-id-7 div.sk-parallel-item:first-child::after {align-self: flex-end;width: 50%;}#sk-container-id-7 div.sk-parallel-item:last-child::after {align-self: flex-start;width: 50%;}#sk-container-id-7 div.sk-parallel-item:only-child::after {width: 0;}#sk-container-id-7 div.sk-dashed-wrapped {border: 1px dashed gray;margin: 0 0.4em 0.5em 0.4em;box-sizing: border-box;padding-bottom: 0.4em;background-color: white;}#sk-container-id-7 div.sk-label label {font-family: monospace;font-weight: bold;display: inline-block;line-height: 1.2em;}#sk-container-id-7 div.sk-label-container {text-align: center;}#sk-container-id-7 div.sk-container {/* jupyter's `normalize.less` sets `[hidden] { display: none; }` but bootstrap.min.css set `[hidden] { display: none !important; }` so we also need the `!important` here to be able to override the default hidden behavior on the sphinx rendered scikit-learn.org. See: https://github.com/scikit-learn/scikit-learn/issues/21755 */display: inline-block !important;position: relative;}#sk-container-id-7 div.sk-text-repr-fallback {display: none;}</style><div id=\"sk-container-id-7\" class=\"sk-top-container\"><div class=\"sk-text-repr-fallback\"><pre>RandomForestClassifier(max_depth=17, n_estimators=461)</pre><b>In a Jupyter environment, please rerun this cell to show the HTML representation or trust the notebook. <br />On GitHub, the HTML representation is unable to render, please try loading this page with nbviewer.org.</b></div><div class=\"sk-container\" hidden><div class=\"sk-item\"><div class=\"sk-estimator sk-toggleable\"><input class=\"sk-toggleable__control sk-hidden--visually\" id=\"sk-estimator-id-9\" type=\"checkbox\" checked><label for=\"sk-estimator-id-9\" class=\"sk-toggleable__label sk-toggleable__label-arrow\">RandomForestClassifier</label><div class=\"sk-toggleable__content\"><pre>RandomForestClassifier(max_depth=17, n_estimators=461)</pre></div></div></div></div></div>"
      ],
      "text/plain": [
       "RandomForestClassifier(max_depth=17, n_estimators=461)"
      ]
     },
     "execution_count": 73,
     "metadata": {},
     "output_type": "execute_result"
    }
   ],
   "source": [
    "rf = RandomForestClassifier(max_depth= 17, n_estimators = 461)\n",
    "rf.fit(X_train, y_train)"
   ]
  },
  {
   "cell_type": "code",
   "execution_count": 89,
   "id": "2f1f3f4f",
   "metadata": {},
   "outputs": [],
   "source": [
    "y_pred = best_rf.predict(X_test)"
   ]
  },
  {
   "cell_type": "code",
   "execution_count": 90,
   "id": "326d912a",
   "metadata": {},
   "outputs": [
    {
     "name": "stdout",
     "output_type": "stream",
     "text": [
      "Accuracy: 0.974293059125964\n"
     ]
    }
   ],
   "source": [
    "accuracy = accuracy_score(y_test, y_pred)\n",
    "print(\"Accuracy:\", accuracy)"
   ]
  },
  {
   "cell_type": "code",
   "execution_count": 109,
   "id": "7ddc7f5e",
   "metadata": {},
   "outputs": [
    {
     "data": {
      "text/plain": [
       "<sklearn.metrics._plot.confusion_matrix.ConfusionMatrixDisplay at 0x12f961550>"
      ]
     },
     "execution_count": 109,
     "metadata": {},
     "output_type": "execute_result"
    },
    {
     "data": {
      "image/png": "[encoded data removed]",
      "text/plain": [
       "<Figure size 640x480 with 2 Axes>"
      ]
     },
     "metadata": {},
     "output_type": "display_data"
    }
   ],
   "source": [
    "cm = confusion_matrix(y_test, y_pred)\n",
    "cmap = plt.get_cmap('magma')\n",
    "\n",
    "cmd = ConfusionMatrixDisplay(confusion_matrix=cm)\n",
    "cmd.plot(cmap=cmap)"
   ]
  },
  {
   "cell_type": "code",
   "execution_count": 93,
   "id": "3b722fc4",
   "metadata": {},
   "outputs": [
    {
     "name": "stdout",
     "output_type": "stream",
     "text": [
      "Accuracy: 0.974293059125964\n",
      "Precision: 0.9852476290832455\n",
      "Recall: 0.9629248197734295\n"
     ]
    }
   ],
   "source": [
    "y_pred = best_rf.predict(X_test)\n",
    "\n",
    "accuracy = accuracy_score(y_test, y_pred)\n",
    "precision = precision_score(y_test, y_pred)\n",
    "recall = recall_score(y_test, y_pred)\n",
    "\n",
    "print(\"Accuracy:\", accuracy)\n",
    "print(\"Precision:\", precision)\n",
    "print(\"Recall:\", recall)"
   ]
  },
  {
   "cell_type": "code",
   "execution_count": 119,
   "id": "169997e6",
   "metadata": {
    "scrolled": false
   },
   "outputs": [
    {
     "data": {
      "image/png": "[encoded data removed]",
      "text/plain": [
       "<Figure size 640x480 with 1 Axes>"
      ]
     },
     "metadata": {},
     "output_type": "display_data"
    }
   ],
   "source": [
    "# Create a series containing feature importances from the model and feature names from the training data\n",
    "feature_importances = pd.Series(best_rf.feature_importances_, index=X_train.columns).sort_values(ascending=True)\n",
    "feature_importances.plot.barh(color='red',title=\"Feature Importances\");"
   ]
  },
  {
   "cell_type": "code",
   "execution_count": null,
   "id": "3f6506f8",
   "metadata": {},
   "outputs": [],
   "source": []
  }
 ],
 "metadata": {
  "kernelspec": {
   "display_name": "Python 3 (ipykernel)",
   "language": "python",
   "name": "python3"
  },
  "language_info": {
   "codemirror_mode": {
    "name": "ipython",
    "version": 3
   },
   "file_extension": ".py",
   "mimetype": "text/x-python",
   "name": "python",
   "nbconvert_exporter": "python",
   "pygments_lexer": "ipython3",
   "version": "3.11.4"
  }
 },
 "nbformat": 4,
 "nbformat_minor": 5
}
