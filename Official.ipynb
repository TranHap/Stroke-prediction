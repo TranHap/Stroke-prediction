{
 "cells": [
  {
   "cell_type": "code",
   "execution_count": 1,
   "id": "d194194d",
   "metadata": {},
   "outputs": [
    {
     "ename": "ImportError",
     "evalue": "cannot import name 'StringIOs' from 'io' (/Users/tranvo1233/anaconda3/envs/sad/lib/python3.11/io.py)",
     "output_type": "error",
     "traceback": [
      "\u001b[0;31m---------------------------------------------------------------------------\u001b[0m",
      "\u001b[0;31mImportError\u001b[0m                               Traceback (most recent call last)",
      "Cell \u001b[0;32mIn[1], line 21\u001b[0m\n\u001b[1;32m     18\u001b[0m \u001b[38;5;28;01mfrom\u001b[39;00m \u001b[38;5;21;01mscipy\u001b[39;00m\u001b[38;5;21;01m.\u001b[39;00m\u001b[38;5;21;01mstats\u001b[39;00m \u001b[38;5;28;01mimport\u001b[39;00m randint\n\u001b[1;32m     20\u001b[0m \u001b[38;5;28;01mfrom\u001b[39;00m \u001b[38;5;21;01msklearn\u001b[39;00m\u001b[38;5;21;01m.\u001b[39;00m\u001b[38;5;21;01mtree\u001b[39;00m \u001b[38;5;28;01mimport\u001b[39;00m export_graphviz\n\u001b[0;32m---> 21\u001b[0m \u001b[38;5;28;01mfrom\u001b[39;00m \u001b[38;5;21;01mio\u001b[39;00m \u001b[38;5;28;01mimport\u001b[39;00m StringIOs\n\u001b[1;32m     22\u001b[0m \u001b[38;5;28;01mfrom\u001b[39;00m \u001b[38;5;21;01mIPython\u001b[39;00m\u001b[38;5;21;01m.\u001b[39;00m\u001b[38;5;21;01mdisplay\u001b[39;00m \u001b[38;5;28;01mimport\u001b[39;00m Image  \n\u001b[1;32m     23\u001b[0m \u001b[38;5;28;01mimport\u001b[39;00m \u001b[38;5;21;01mpydotplus\u001b[39;00m\n",
      "\u001b[0;31mImportError\u001b[0m: cannot import name 'StringIOs' from 'io' (/Users/tranvo1233/anaconda3/envs/sad/lib/python3.11/io.py)"
     ]
    }
   ],
   "source": [
    "import pandas as pd\n",
    "import seaborn as sns\n",
    "import matplotlib.pyplot as plt\n",
    "import numpy as np\n",
    "\n",
    "from sklearn.preprocessing import LabelEncoder\n",
    "from sklearn.preprocessing import StandardScaler\n",
    "from sklearn.decomposition import PCA\n",
    "\n",
    "from sklearn.linear_model import LogisticRegression\n",
    "from sklearn.model_selection import train_test_split\n",
    "from sklearn.metrics import mean_squared_error as MSE,accuracy_score, confusion_matrix,ConfusionMatrixDisplay,f1_score,accuracy_score,recall_score,roc_auc_score,classification_report,precision_score\n",
    "from imblearn.over_sampling import SMOTE\n",
    "from scipy.cluster.hierarchy import linkage, dendrogram\n",
    "from sklearn.tree import DecisionTreeClassifier\n",
    "from sklearn.ensemble import RandomForestClassifier\n",
    "from sklearn.model_selection import RandomizedSearchCV,GridSearchCV\n",
    "from scipy.stats import randint\n",
    "\n",
    "from sklearn.tree import export_graphviz\n",
    "from io import StringIOs\n",
    "from IPython.display import Image  \n",
    "import pydotplus"
   ]
  },
  {
   "cell_type": "code",
   "execution_count": null,
   "id": "6f2b438f",
   "metadata": {},
   "outputs": [],
   "source": [
    "print(\"Nice\")"
   ]
  },
  {
   "cell_type": "code",
   "execution_count": null,
   "id": "9a7439ea",
   "metadata": {},
   "outputs": [],
   "source": [
    "df = pd.read_csv(\"data/stroke.csv\")\n",
    "copy = df\n",
    "df.head()"
   ]
  },
  {
   "cell_type": "code",
   "execution_count": null,
   "id": "188e24d6",
   "metadata": {},
   "outputs": [],
   "source": [
    "df[\"gender\"].unique()"
   ]
  },
  {
   "cell_type": "markdown",
   "id": "806186e8",
   "metadata": {},
   "source": [
    "# Xử lý dữ liệu (chưa cân bằng dataset)"
   ]
  },
  {
   "cell_type": "code",
   "execution_count": null,
   "id": "0e492bee",
   "metadata": {},
   "outputs": [],
   "source": [
    "df.fillna(df['bmi'].median(),inplace = True)"
   ]
  },
  {
   "cell_type": "code",
   "execution_count": null,
   "id": "92ee7a44",
   "metadata": {},
   "outputs": [],
   "source": [
    "df.isnull().sum()"
   ]
  },
  {
   "cell_type": "code",
   "execution_count": null,
   "id": "79a6f407",
   "metadata": {},
   "outputs": [],
   "source": [
    "df[\"gender\"].unique()"
   ]
  },
  {
   "cell_type": "code",
   "execution_count": null,
   "id": "c4f44c74",
   "metadata": {},
   "outputs": [],
   "source": [
    "df = df[df['gender'] != 'Other']"
   ]
  },
  {
   "cell_type": "code",
   "execution_count": null,
   "id": "4e36369a",
   "metadata": {},
   "outputs": [],
   "source": [
    "df[\"gender\"].unique()"
   ]
  },
  {
   "cell_type": "code",
   "execution_count": null,
   "id": "62c82e60",
   "metadata": {},
   "outputs": [],
   "source": [
    "df.drop('id', axis=1, inplace=True)"
   ]
  },
  {
   "cell_type": "code",
   "execution_count": null,
   "id": "1e5b67b6",
   "metadata": {},
   "outputs": [],
   "source": [
    "categorical_variables = ['gender', 'ever_married','work_type', 'Residence_type','smoking_status']"
   ]
  },
  {
   "cell_type": "code",
   "execution_count": 5,
   "id": "aa6ba584",
   "metadata": {},
   "outputs": [],
   "source": [
    "LE=LabelEncoder()"
   ]
  },
  {
   "cell_type": "code",
   "execution_count": 6,
   "id": "62f7b520",
   "metadata": {},
   "outputs": [
    {
     "ename": "NameError",
     "evalue": "name 'categorical_variables' is not defined",
     "output_type": "error",
     "traceback": [
      "\u001b[0;31m---------------------------------------------------------------------------\u001b[0m",
      "\u001b[0;31mNameError\u001b[0m                                 Traceback (most recent call last)",
      "Cell \u001b[0;32mIn[6], line 1\u001b[0m\n\u001b[0;32m----> 1\u001b[0m \u001b[38;5;28;01mfor\u001b[39;00m variable \u001b[38;5;129;01min\u001b[39;00m categorical_variables:\n\u001b[1;32m      2\u001b[0m      df[variable] \u001b[38;5;241m=\u001b[39m LE\u001b[38;5;241m.\u001b[39mfit_transform(df[variable]\u001b[38;5;241m.\u001b[39mastype(\u001b[38;5;28mstr\u001b[39m))\n\u001b[1;32m      3\u001b[0m \u001b[38;5;28mprint\u001b[39m(df\u001b[38;5;241m.\u001b[39minfo())\n",
      "\u001b[0;31mNameError\u001b[0m: name 'categorical_variables' is not defined"
     ]
    }
   ],
   "source": [
    "for variable in categorical_variables:\n",
    "     df[variable] = LE.fit_transform(df[variable].astype(str))\n",
    "print(df.info())"
   ]
  },
  {
   "cell_type": "code",
   "execution_count": null,
   "id": "34f2b798",
   "metadata": {},
   "outputs": [],
   "source": [
    "X = df.loc[:, df.columns != 'stroke']\n",
    "y = df.loc[:, df.columns == 'stroke']"
   ]
  },
  {
   "cell_type": "code",
   "execution_count": null,
   "id": "802065cc",
   "metadata": {},
   "outputs": [],
   "source": [
    "X.head()"
   ]
  },
  {
   "cell_type": "markdown",
   "id": "d1cb34c9",
   "metadata": {},
   "source": [
    "# Graph 1: Xem correlation "
   ]
  },
  {
   "cell_type": "code",
   "execution_count": null,
   "id": "ef6293a2",
   "metadata": {},
   "outputs": [],
   "source": [
    "plt.figure(figsize=(10, 6))\n",
    "sns.heatmap(df.corr(),annot= True,cmap='Blues');\n",
    "plt.show()"
   ]
  },
  {
   "cell_type": "markdown",
   "id": "5f2920de",
   "metadata": {},
   "source": [
    "Từ cái heatmap thấy là age, glucose level, hypertension, heart disease,ever married có correlate với stroke, mấy cái khác thì không đáng kể."
   ]
  },
  {
   "cell_type": "markdown",
   "id": "3f9e8188",
   "metadata": {},
   "source": [
    "# Graph 2: glucose level với stroke"
   ]
  },
  {
   "cell_type": "code",
   "execution_count": null,
   "id": "dc599435",
   "metadata": {},
   "outputs": [],
   "source": [
    "sns.scatterplot(x='age', y='avg_glucose_level',hue='stroke',data=df)"
   ]
  },
  {
   "cell_type": "markdown",
   "id": "df8d4c5f",
   "metadata": {},
   "source": [
    "Ta thấy có hai clusters, ở dưới là toàn người không có stroke trong khi ở trên là ngươi có hoặc không có stroke. Từ dây, ta suy luận rằng những người không có stroke là những người có glucose_level thấp"
   ]
  },
  {
   "cell_type": "markdown",
   "id": "d51aad50",
   "metadata": {},
   "source": [
    "# Graph 3: HyperTension với Stroke"
   ]
  },
  {
   "cell_type": "code",
   "execution_count": null,
   "id": "4481de25",
   "metadata": {},
   "outputs": [],
   "source": [
    "sns.countplot(x='stroke', data = df)"
   ]
  },
  {
   "cell_type": "markdown",
   "id": "92ad7f77",
   "metadata": {},
   "source": [
    "Ta thấy là dataset của chúng ta hiện đang imbalance, do đó trước khi đi phân tích correlation giữa hypertension và stroke thì ta phải làm dataset cân bằng. Mình sẽ chọn undersample (nên làm cả hai trường hợp luôn, nhưng mà thử display oversample thì nó hơi sai sự thật, chắc là do thông tin được thêm vào synthetic nên vậy, thế là dùng undersample)"
   ]
  },
  {
   "cell_type": "code",
   "execution_count": null,
   "id": "0d02fcf8",
   "metadata": {},
   "outputs": [],
   "source": [
    "# Class count\n",
    "count_class_0, count_class_1 = df['stroke'].value_counts()\n",
    "# Divide by class\n",
    "df_class_0 = df[df['stroke'] == 0]\n",
    "df_class_1 = df[df['stroke'] == 1]"
   ]
  },
  {
   "cell_type": "code",
   "execution_count": null,
   "id": "722fe589",
   "metadata": {},
   "outputs": [],
   "source": [
    "# Because our data is imbalance, we will randomly undersample our data\n",
    "df_class_0_under = df_class_0.sample(count_class_1)\n",
    "df_test_under = pd.concat([df_class_0_under, df_class_1], axis=0)\n",
    "\n",
    "print('Random under-sampling:')\n",
    "print(df_test_under['stroke'].value_counts())\n",
    "\n",
    "sns.countplot(x='stroke',data= df_test_under)"
   ]
  },
  {
   "cell_type": "code",
   "execution_count": null,
   "id": "0a211ba5",
   "metadata": {},
   "outputs": [],
   "source": [
    "sns.set(style='whitegrid')  # Optional: Set the style\n",
    "copy = copy[copy[\"gender\"] != 'Other']\n",
    "g = sns.catplot(x='hypertension', hue='gender', col='stroke',\n",
    "                data=df_test_under, kind='count')\n",
    "g.set_axis_labels('HyperTension', 'Count')"
   ]
  },
  {
   "cell_type": "markdown",
   "id": "2a3b8d98",
   "metadata": {},
   "source": [
    "Sau khi đã balance data bằng undersample rồi, ta đi phân tích. Quan sát rằng, những người có hypertertion bị stroke nhiều hơn là không bị stroke. Cùng lúc đó, nhưng người không có hypertension ít bị stroke hơn là bị stroke. Từ đây suy ra hypertension có ảnh hưởng đến dự đoán stroke (ghi mà hoa cả mắt :> ). Ta không thấy sự khác nhau quá nhiều giữa hai giới tính -> giới tính có thể không ảnh hưởng đến chuẩn đoán stroke."
   ]
  },
  {
   "cell_type": "markdown",
   "id": "35e9187b",
   "metadata": {},
   "source": [
    "# Graph 5: Dùng PCA + Logistic Regression"
   ]
  },
  {
   "cell_type": "markdown",
   "id": "5ac79d25",
   "metadata": {},
   "source": [
    "Hiện giờ chúng ta có 7 variables -> vẫn quá lớn nên dễ overfitting. Vậy mình dùng PCA nhé."
   ]
  },
  {
   "cell_type": "code",
   "execution_count": null,
   "id": "6be32ff7",
   "metadata": {},
   "outputs": [],
   "source": [
    "# Ta đi normalize data trước khi apply PCA\n",
    "from sklearn.preprocessing import StandardScaler\n",
    "\n",
    "# Initialize StandardScaler\n",
    "scaler = StandardScaler()\n",
    "\n",
    "# Select numerical columns to scale\n",
    "numerical_cols_to_scale = ['age', 'avg_glucose_level', 'bmi']\n",
    "\n",
    "X_under = df_test_under.loc[:, df.columns != 'stroke']\n",
    "y_under = df_test_under.loc[:, df.columns == 'stroke']\n",
    "\n",
    "# Apply scaling on numerical columns\n",
    "X_under[numerical_cols_to_scale] = scaler.fit_transform(X_under[numerical_cols_to_scale])\n",
    "\n",
    "# Display the first few rows of the dataframe to verify scaling\n",
    "X_under.head()"
   ]
  },
  {
   "cell_type": "code",
   "execution_count": null,
   "id": "a9be1689",
   "metadata": {},
   "outputs": [],
   "source": [
    "from sklearn.decomposition import PCA\n",
    "pca = PCA()\n",
    "pca.fit_transform(X_under)"
   ]
  },
  {
   "cell_type": "code",
   "execution_count": null,
   "id": "d82590ce",
   "metadata": {},
   "outputs": [],
   "source": [
    "# Vẽ bảng cumulative variance\n",
    "fig = plt.figure(figsize=(10,6))\n",
    "\n",
    "axes = fig.add_axes([0.1,0.1,0.9,0.9])\n",
    "axes.tick_params(axis='x', labelsize= 15 )\n",
    "axes.tick_params(axis='y', labelsize= 15 )\n",
    "axes.set_title('CUMULATIVE EXPLAINED VARIANCE(%) vs PRINCIPAL COMPONENTS',fontsize='x-small')\n",
    "axes.set_ylabel('CUMULATIVE EXPLAINED VARIANCE(%)',fontsize='x-small')\n",
    "axes.set_xlabel('PRINCIPAL COMPONENT NUMBER',fontsize='x-small')\n",
    "axes.plot(np.cumsum(pca.explained_variance_ratio_)*100,color='navy',lw =4, ls='-', marker='o', markersize='8')\n",
    "plt.axhline(90,color='r',lw = 2)\n",
    "plt.axvline(5,color='r',lw = 2)\n",
    "plt.show();"
   ]
  },
  {
   "cell_type": "markdown",
   "id": "144e915e",
   "metadata": {},
   "source": [
    "Như ta thấy thì 5 variables accounts cho 90% rồi. Vì vậy chúng ta quyết định sẽ dùng 5 features để dùng linear regression "
   ]
  },
  {
   "cell_type": "code",
   "execution_count": null,
   "id": "dc91aacd",
   "metadata": {},
   "outputs": [],
   "source": [
    "pca = PCA(n_components = 5)\n",
    "pca.fit_transform(X_under)"
   ]
  },
  {
   "cell_type": "code",
   "execution_count": null,
   "id": "ec4c178f",
   "metadata": {},
   "outputs": [],
   "source": [
    "# from sklearn.linear_model import LogisticRegression\n",
    "from sklearn.model_selection import train_test_split\n",
    "\n",
    "X_train, X_test, y_train, y_test = train_test_split(X_under, y_under, train_size = 0.8, random_state = 20, stratify = y_under)\n",
    "X_train_reduced = pca.fit_transform(X_train)\n",
    "X_test_reduced = pca.transform(X_test)\n",
    "y_train = y_train.values.ravel()\n",
    "\n",
    "lr = LogisticRegression()\n",
    "lr.fit(X_train_reduced, y_train)"
   ]
  },
  {
   "cell_type": "code",
   "execution_count": null,
   "id": "f83e6aaf",
   "metadata": {},
   "outputs": [],
   "source": [
    "y_pred = lr.predict(X_test_reduced)"
   ]
  },
  {
   "cell_type": "code",
   "execution_count": null,
   "id": "9ed4eec1",
   "metadata": {},
   "outputs": [],
   "source": [
    "score = MSE(y_test, y_pred)\n",
    "RMSE = (score)*(1/2)\n",
    "accuracy = accuracy_score(y_test, y_pred)\n",
    "\n",
    "summary = pd.DataFrame({\n",
    "    \"RMSE\": [RMSE],\n",
    "    \"Accuracy\": [accuracy]\n",
    "})\n",
    "summary.head()"
   ]
  },
  {
   "cell_type": "markdown",
   "id": "a0cfbe6c",
   "metadata": {},
   "source": [
    "# -> Tổng kết: dùng PCA + Logistic Regression cho RMSE 0.105, Acc: 0.79"
   ]
  },
  {
   "cell_type": "markdown",
   "id": "ef76fc82",
   "metadata": {},
   "source": [
    "# Dùng Regularization + Logistic Regression "
   ]
  },
  {
   "cell_type": "code",
   "execution_count": null,
   "id": "8c6211b1",
   "metadata": {
    "scrolled": true
   },
   "outputs": [],
   "source": [
    "# Specify L1 regularization\n",
    "lr = LogisticRegression(solver='liblinear', penalty='l1',random_state=42)\n",
    "\n",
    "# Instantiate the GridSearchCV object and run the search\n",
    "searcher = GridSearchCV(lr, {'C':[0.001, 0.01, 0.1, 1, 10,100]})\n",
    "searcher.fit(X_train, y_train)\n",
    "\n",
    "# Report the best parameters\n",
    "print(\"Best CV params\", searcher.best_params_)\n",
    "\n",
    "# Find the number of nonzero coefficients (selected features)\n",
    "best_lr = searcher.best_estimator_\n",
    "coefs = best_lr.coef_\n",
    "print(\"Total number of features:\", coefs.size)\n",
    "print(\"Number of selected features:\", np.count_nonzero(coefs))"
   ]
  },
  {
   "cell_type": "code",
   "execution_count": null,
   "id": "99fe28ca",
   "metadata": {},
   "outputs": [],
   "source": [
    "y_pred = best_lr.predict(X_test)"
   ]
  },
  {
   "cell_type": "code",
   "execution_count": null,
   "id": "d20ecb2e",
   "metadata": {},
   "outputs": [],
   "source": [
    "score = MSE(y_test, y_pred)\n",
    "RMSE = (score)*(1/2)\n",
    "print(f\"RMSE: {RMSE}\")\n",
    "\n",
    "accuracy = accuracy_score(y_test, y_pred)\n",
    "print(f\"Accuracy: {accuracy}\")"
   ]
  },
  {
   "cell_type": "code",
   "execution_count": null,
   "id": "08a2e1ad",
   "metadata": {},
   "outputs": [],
   "source": [
    "summary = pd.DataFrame({\n",
    "    \"RMSE\": [RMSE],\n",
    "    \"Accuracy\": [accuracy]\n",
    "})\n",
    "summary.head()"
   ]
  },
  {
   "cell_type": "markdown",
   "id": "630b28ab",
   "metadata": {},
   "source": [
    "# Tổng kết: Regularization + Logistic Regression có RMSE: 0.1, Acc: 0.8"
   ]
  },
  {
   "cell_type": "markdown",
   "id": "0ab47121",
   "metadata": {},
   "source": [
    "# Graph 6"
   ]
  },
  {
   "cell_type": "code",
   "execution_count": null,
   "id": "8e83cac9",
   "metadata": {},
   "outputs": [],
   "source": [
    "from imblearn.over_sampling import SMOTE\n",
    "\n",
    "oversample = SMOTE()\n",
    "X_over, y_over = oversample.fit_resample(X, y)"
   ]
  },
  {
   "cell_type": "code",
   "execution_count": null,
   "id": "b297d000",
   "metadata": {},
   "outputs": [],
   "source": [
    "y_over.head()"
   ]
  },
  {
   "cell_type": "code",
   "execution_count": null,
   "id": "0419c68e",
   "metadata": {},
   "outputs": [],
   "source": [
    "df_test_over = pd.concat([X_over, y_over], axis=1).reset_index()\n",
    "\n",
    "print('SMOTE over-sampling:')\n",
    "print(df_test_over['stroke'].value_counts())\n",
    "\n",
    "sns.countplot(x='stroke',data= df_test_over)"
   ]
  },
  {
   "cell_type": "code",
   "execution_count": null,
   "id": "22965062",
   "metadata": {},
   "outputs": [],
   "source": [
    "df_test_over.head()"
   ]
  },
  {
   "cell_type": "code",
   "execution_count": null,
   "id": "c9673aaa",
   "metadata": {},
   "outputs": [],
   "source": [
    "# Import the linkage, dendrogram functions\n",
    "from scipy.cluster.hierarchy import linkage, dendrogram\n",
    "\n",
    "# Use the linkage() function\n",
    "distance_matrix = linkage(df_test_under[[\"gender\", \"hypertension\",\"heart_disease\",\"ever_married\",\"work_type\",\n",
    "                                         \"Residence_type\",\"smoking_status\",\"stroke\"]], \n",
    "                          method = 'complete', metric = 'euclidean', )\n",
    "dn = dendrogram(distance_matrix, p=10)\n",
    "\n",
    "plt.show()"
   ]
  },
  {
   "cell_type": "markdown",
   "id": "d7a2cc4e",
   "metadata": {},
   "source": [
    "# Graph 7: Decision Tree"
   ]
  },
  {
   "cell_type": "code",
   "execution_count": null,
   "id": "1360cede",
   "metadata": {},
   "outputs": [],
   "source": [
    "from sklearn.tree import DecisionTreeClassifier"
   ]
  },
  {
   "cell_type": "code",
   "execution_count": null,
   "id": "41c355c6",
   "metadata": {},
   "outputs": [],
   "source": [
    "# Create Decision Tree classifer object\n",
    "clf = DecisionTreeClassifier()\n",
    "\n",
    "# Train Decision Tree Classifer\n",
    "clf = clf.fit(X_train,y_train)\n"
   ]
  },
  {
   "cell_type": "code",
   "execution_count": null,
   "id": "a6eceb8a",
   "metadata": {},
   "outputs": [],
   "source": [
    "y_pred = clf.predict(X_test)"
   ]
  },
  {
   "cell_type": "code",
   "execution_count": null,
   "id": "f9d49990",
   "metadata": {},
   "outputs": [],
   "source": [
    "# Model Accuracy, how often is the classifier correct?\n",
    "print(\"Accuracy:\", accuracy_score(y_test, y_pred))"
   ]
  },
  {
   "cell_type": "code",
   "execution_count": null,
   "id": "404505f7",
   "metadata": {},
   "outputs": [],
   "source": [
    "from sklearn.tree import export_graphviz\n",
    "from six import StringIO\n",
    "from IPython.display import Image  \n",
    "import pydotplus\n",
    "\n",
    "dot_data = StringIO()\n",
    "export_graphviz(clf, out_file=dot_data,  \n",
    "                filled=True, rounded=True,\n",
    "                special_characters=True,\n",
    "                feature_names = X.columns,\n",
    "                max_depth=5,\n",
    "                impurity=False, \n",
    "                class_names=['Stroke','No Stroke'])\n",
    "graph = pydotplus.graph_from_dot_data(dot_data.getvalue())  \n",
    "graph.write_png('DecisionTreeClassifier.png')\n",
    "Image(graph.create_png())\n"
   ]
  },
  {
   "cell_type": "markdown",
   "id": "c66129f8",
   "metadata": {},
   "source": [
    "# Graph 8: Confusion Matrix cho Decision Tree"
   ]
  },
  {
   "cell_type": "code",
   "execution_count": null,
   "id": "fe6ced13",
   "metadata": {},
   "outputs": [],
   "source": [
    "from sklearn.metrics import confusion_matrix,ConfusionMatrixDisplay\n",
    "cm = confusion_matrix(y_test, y_pred)\n",
    "cmap = plt.get_cmap('magma')\n",
    "\n",
    "cmd = ConfusionMatrixDisplay(confusion_matrix=cm)\n",
    "cmd.plot(cmap=cmap)"
   ]
  },
  {
   "cell_type": "code",
   "execution_count": null,
   "id": "1c518a60",
   "metadata": {},
   "outputs": [],
   "source": [
    "from sklearn.metrics import f1_score,accuracy_score,recall_score,roc_auc_score,classification_report,precision_score\n",
    "# dt_f1 = f1_score(y_test, y_pred)\n",
    "# dt_acc = accuracy_score(y_test, y_pred)\n",
    "# dt_recall = recall_score(y_test, y_pred)\n",
    "# dt_auc = roc_auc_score(y_test, y_pred)"
   ]
  },
  {
   "cell_type": "code",
   "execution_count": null,
   "id": "8435d438",
   "metadata": {},
   "outputs": [],
   "source": [
    "print(classification_report(y_test, y_pred))\n",
    "print(\"\\033[1m--------------------------------------------------------\\033[0m\")"
   ]
  },
  {
   "cell_type": "markdown",
   "id": "99aec63a",
   "metadata": {},
   "source": [
    "# Tổng kết: Decion Tree có Acc là 90.91% (do oversample nen minh cung khong ro co anh huong gi khong nua TT)"
   ]
  },
  {
   "cell_type": "code",
   "execution_count": null,
   "id": "bd1e49d2",
   "metadata": {},
   "outputs": [],
   "source": [
    "from sklearn.ensemble import RandomForestClassifier\n",
    "rf = RandomForestClassifier(random_state =42,n_jobs=-1)\n",
    "rf.fit(X_train,y_train)"
   ]
  },
  {
   "cell_type": "code",
   "execution_count": null,
   "id": "7892aaa8",
   "metadata": {},
   "outputs": [],
   "source": [
    "y_pred = rf.predict(X_test)"
   ]
  },
  {
   "cell_type": "code",
   "execution_count": 7,
   "id": "65d0a7fb",
   "metadata": {},
   "outputs": [
    {
     "ename": "NameError",
     "evalue": "name 'y_test' is not defined",
     "output_type": "error",
     "traceback": [
      "\u001b[0;31m---------------------------------------------------------------------------\u001b[0m",
      "\u001b[0;31mNameError\u001b[0m                                 Traceback (most recent call last)",
      "Cell \u001b[0;32mIn[7], line 1\u001b[0m\n\u001b[0;32m----> 1\u001b[0m accuracy \u001b[38;5;241m=\u001b[39m accuracy_score(y_test, y_pred)\n\u001b[1;32m      2\u001b[0m \u001b[38;5;28mprint\u001b[39m(\u001b[38;5;124m\"\u001b[39m\u001b[38;5;124mAccuracy:\u001b[39m\u001b[38;5;124m\"\u001b[39m, accuracy)\n",
      "\u001b[0;31mNameError\u001b[0m: name 'y_test' is not defined"
     ]
    }
   ],
   "source": [
    "accuracy = accuracy_score(y_test, y_pred)\n",
    "print(\"Accuracy:\", accuracy)"
   ]
  },
  {
   "cell_type": "code",
   "execution_count": null,
   "id": "f7d15c00",
   "metadata": {},
   "outputs": [],
   "source": [
    "for i in range(3):\n",
    "    tree = rf.estimators_[i]\n",
    "    dot_data = StringIO()\n",
    "    export_graphviz(tree, out_file=dot_data,  \n",
    "                    filled=True, rounded=True,\n",
    "                    special_characters=True,\n",
    "                    feature_names = X.columns,\n",
    "                    max_depth=5,\n",
    "                    impurity=False, \n",
    "                    class_names=['Stroke','No Stroke'])\n",
    "    graph = pydotplus.graph_from_dot_data(dot_data.getvalue())  \n",
    "    graph.write_png('RandomForestTree.png')\n",
    "    Image(graph.create_png())"
   ]
  },
  {
   "cell_type": "markdown",
   "id": "8fc755d4",
   "metadata": {},
   "source": [
    "# Dung ensembler RandomizedSearchCV"
   ]
  },
  {
   "cell_type": "code",
   "execution_count": null,
   "id": "a509d075",
   "metadata": {},
   "outputs": [],
   "source": [
    "from sklearn.model_selection import RandomizedSearchCV\n",
    "from scipy.stats import randint\n",
    "import numpy as np\n",
    "param_dist = {'n_estimators': randint(50,500),\n",
    "              'max_depth': randint(1,20)}\n",
    "\n",
    "RF_random_model = RandomForestClassifier()\n",
    "\n",
    "RF_random__search_model  = RandomizedSearchCV(RF_random_model , \n",
    "                                 param_distributions = param_dist, \n",
    "                                random_state=42,\n",
    "                                 n_iter=5, \n",
    "                                 cv=5)\n",
    "RF_random__search_model.fit(X_train,y_train)"
   ]
  },
  {
   "cell_type": "code",
   "execution_count": null,
   "id": "a5c74bdf",
   "metadata": {},
   "outputs": [],
   "source": [
    "RF_random_model = RF_random__search_model.best_estimator_\n",
    "\n",
    "print('Best hyperparameters:',  RF_random__search_model.best_params_)"
   ]
  },
  {
   "cell_type": "code",
   "execution_count": null,
   "id": "d52d7f97",
   "metadata": {},
   "outputs": [],
   "source": [
    "y_pred = RF_random_model.predict(X_test)"
   ]
  },
  {
   "cell_type": "code",
   "execution_count": null,
   "id": "9a4f7c1a",
   "metadata": {},
   "outputs": [],
   "source": [
    "accuracy = accuracy_score(y_test, y_pred)\n",
    "print(\"Accuracy:\", accuracy)"
   ]
  },
  {
   "cell_type": "code",
   "execution_count": null,
   "id": "2d8e644e",
   "metadata": {},
   "outputs": [],
   "source": [
    "accuracy = accuracy_score(y_test, y_pred)\n",
    "precision = precision_score(y_test, y_pred)\n",
    "recall = recall_score(y_test, y_pred)\n",
    "\n",
    "print(\"Accuracy:\", accuracy)\n",
    "print(\"Precision:\", precision)\n",
    "print(\"Recall:\", recall)"
   ]
  },
  {
   "cell_type": "markdown",
   "id": "15e7d0fa",
   "metadata": {},
   "source": [
    "# Graph 9: Feature Importances cua Random Forest Tree"
   ]
  },
  {
   "cell_type": "code",
   "execution_count": null,
   "id": "6e2ff6be",
   "metadata": {},
   "outputs": [],
   "source": [
    "# Create a series containing feature importances from the model and feature names from the training data\n",
    "feature_importances = pd.Series(RF_random_model.feature_importances_, index=X_train.columns).sort_values(ascending=True)\n",
    "feature_importances.plot.barh(color='red',title=\"Feature Importances\");"
   ]
  },
  {
   "cell_type": "markdown",
   "id": "3e277c0f",
   "metadata": {},
   "source": [
    "# Tong ket: Random Forest Tree dat 94.8% ? Tai sao lam ban rieng la 97% ma nhi? Khac la minh dung Label Encoding thay vi getDummies"
   ]
  },
  {
   "cell_type": "markdown",
   "id": "a2af9bcb",
   "metadata": {},
   "source": [
    "# Dung GridSearchCV"
   ]
  },
  {
   "cell_type": "code",
   "execution_count": null,
   "id": "7c4f11a9",
   "metadata": {},
   "outputs": [],
   "source": [
    "param_grid = {'n_estimators':[50, 100, 300],\n",
    "             'max_features':[2, 3, 4],\n",
    "             'max_depth':[3, 5, 7, 9],\n",
    "             'min_samples_split':[2, 5, 8]}"
   ]
  },
  {
   "cell_type": "code",
   "execution_count": null,
   "id": "93876eb1",
   "metadata": {},
   "outputs": [],
   "source": [
    "RF_grid_model = RandomForestClassifier(random_state=101)\n",
    "\n",
    "RF_grid_model = GridSearchCV(estimator=RF_grid_model, \n",
    "                             param_grid=param_grid, \n",
    "                             scoring = \"recall\", \n",
    "                             n_jobs = -1, verbose = 2).fit(X_train, y_train)"
   ]
  },
  {
   "cell_type": "code",
   "execution_count": null,
   "id": "22d09c06",
   "metadata": {},
   "outputs": [],
   "source": [
    "from termcolor import colored\n",
    "print(colored('\\033[1mBest Parameters of GridSearchCV for Random Forest Model:\\033[0m', 'blue'), colored(RF_grid_model.best_params_, 'cyan'))\n",
    "print(\"--------------------------------------------------------------------------------------------------------------------\")\n",
    "print(colored('\\033[1mBest Estimator of GridSearchCV for Random Forest Model:\\033[0m', 'blue'), colored(RF_grid_model.best_estimator_, 'cyan'))\n",
    "                                                                                                        "
   ]
  },
  {
   "cell_type": "markdown",
   "id": "0ad47ba2",
   "metadata": {},
   "source": [
    "# Graph 10: Confusion Matrix for RFT GridSearch"
   ]
  },
  {
   "cell_type": "code",
   "execution_count": null,
   "id": "28a57182",
   "metadata": {},
   "outputs": [],
   "source": [
    "y_pred = RF_grid_model.predict(X_test)\n",
    "y_train_pred = RF_grid_model.predict(X_train)\n",
    "\n",
    "rf_grid_f1 = f1_score(y_test, y_pred)\n",
    "rf_grid_acc = accuracy_score(y_test, y_pred)\n",
    "rf_grid_recall = recall_score(y_test, y_pred)\n",
    "rf_grid_auc = roc_auc_score(y_test, y_pred)\n",
    "\n",
    "print(confusion_matrix(y_test, y_pred))\n",
    "print(\"\\033[1m--------------------------------------------------------\\033[0m\")\n",
    "print(classification_report(y_test, y_pred))\n",
    "print(\"\\033[1m--------------------------------------------------------\\033[0m\")\n",
    "\n",
    "\n",
    "cm = confusion_matrix(y_test, y_pred)\n",
    "cmap = plt.get_cmap('magma')\n",
    "\n",
    "cmd = ConfusionMatrixDisplay(confusion_matrix=cm)\n",
    "cmd.plot(cmap=cmap)"
   ]
  },
  {
   "cell_type": "code",
   "execution_count": null,
   "id": "15046591",
   "metadata": {},
   "outputs": [],
   "source": [
    "print(rf_grid_acc)"
   ]
  },
  {
   "cell_type": "markdown",
   "id": "f39f6247",
   "metadata": {},
   "source": [
    "# Save model"
   ]
  },
  {
   "cell_type": "code",
   "execution_count": null,
   "id": "096f9db0",
   "metadata": {},
   "outputs": [],
   "source": [
    "import pickle"
   ]
  },
  {
   "cell_type": "code",
   "execution_count": null,
   "id": "12af0ac5",
   "metadata": {},
   "outputs": [],
   "source": [
    "pickle.dump(\n",
    "    RF_grid_model,  # Replace with your model\n",
    "    open(\"RF_grid_model.pickle\", \"wb\"),  # Specify where to save the model\n",
    ")"
   ]
  },
  {
   "cell_type": "code",
   "execution_count": null,
   "id": "fe338661",
   "metadata": {},
   "outputs": [],
   "source": [
    "# Load a pickle file\n",
    "RF_grid_model = pickle.load(\n",
    "    open(\"RF_grid_model.pickle\", \"rb\")  # Specify which file to load\n",
    ")\n",
    "\n",
    "RF_grid_model"
   ]
  },
  {
   "cell_type": "code",
   "execution_count": null,
   "id": "bde22ae3",
   "metadata": {},
   "outputs": [],
   "source": [
    "y_pred = RF_grid_model.predict(X_test)"
   ]
  },
  {
   "cell_type": "code",
   "execution_count": null,
   "id": "203a0871",
   "metadata": {},
   "outputs": [],
   "source": [
    "print(y_pred)\n",
    "print(y_test[\"stroke\"])"
   ]
  },
  {
   "cell_type": "code",
   "execution_count": null,
   "id": "d4a45f3c",
   "metadata": {},
   "outputs": [],
   "source": [
    "pickle.dump(\n",
    "    RF_random_model,  # Replace with your model\n",
    "    open(\"RF_random_model.pickle\", \"wb\"),  # Specify where to save the model\n",
    ")"
   ]
  },
  {
   "cell_type": "code",
   "execution_count": null,
   "id": "c5a3cd6d",
   "metadata": {},
   "outputs": [],
   "source": [
    "# Load a pickle file\n",
    "RF_random_model = pickle.load(\n",
    "    open(\"RF_random_model.pickle\", \"rb\")  # Specify which file to load\n",
    ")\n",
    "\n",
    "RF_random_model"
   ]
  },
  {
   "cell_type": "code",
   "execution_count": null,
   "id": "248bdaf0",
   "metadata": {},
   "outputs": [],
   "source": [
    "y_pred = RF_random_model.predict(X_test)"
   ]
  },
  {
   "cell_type": "code",
   "execution_count": null,
   "id": "270d563e",
   "metadata": {},
   "outputs": [],
   "source": [
    "print(y_pred)\n",
    "print(y_test[\"stroke\"])"
   ]
  },
  {
   "cell_type": "code",
   "execution_count": null,
   "id": "51a1601d",
   "metadata": {},
   "outputs": [],
   "source": []
  }
 ],
 "metadata": {
  "kernelspec": {
   "display_name": "Python 3 (ipykernel)",
   "language": "python",
   "name": "python3"
  },
  "language_info": {
   "codemirror_mode": {
    "name": "ipython",
    "version": 3
   },
   "file_extension": ".py",
   "mimetype": "text/x-python",
   "name": "python",
   "nbconvert_exporter": "python",
   "pygments_lexer": "ipython3",
   "version": "3.11.4"
  }
 },
 "nbformat": 4,
 "nbformat_minor": 5
}
